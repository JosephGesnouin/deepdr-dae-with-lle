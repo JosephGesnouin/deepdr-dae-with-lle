{
 "cells": [
  {
   "cell_type": "code",
   "execution_count": 2,
   "metadata": {},
   "outputs": [],
   "source": [
    "library(readr)\n",
    "library(mclust)\n",
    "library(aricode)"
   ]
  },
  {
   "cell_type": "code",
   "execution_count": null,
   "metadata": {},
   "outputs": [],
   "source": []
  },
  {
   "cell_type": "code",
   "execution_count": 10,
   "metadata": {},
   "outputs": [
    {
     "name": "stderr",
     "output_type": "stream",
     "text": [
      "Parsed with column specification:\n",
      "cols(\n",
      "  .default = col_double()\n",
      ")\n",
      "See spec(...) for full column specifications.\n",
      "Parsed with column specification:\n",
      "cols(\n",
      "  `0` = col_integer()\n",
      ")\n"
     ]
    },
    {
     "name": "stdout",
     "output_type": "stream",
     "text": [
      "[1] 0.5674283\n",
      "[1] 0.4122557\n"
     ]
    }
   ],
   "source": [
    "args = \"/result_fashion/bottle_ae_50.csv\"\n",
    "\n",
    "\n",
    "x <- c(\"~/Developpement/cours/DeepReduc\", args)\n",
    "bottle <- read_csv(paste(x, collapse=\"/\"))\n",
    "labels <- read_csv(\"~/Developpement/cours/DeepReduc/fashion_labels.csv\")\n",
    "\n",
    "\n",
    "nmi=c()\n",
    "ari=c()\n",
    "for(i in 1:10){\n",
    "  clustering=Mclust(bottle,G=10)\n",
    "  nmi=cbind(nmi,NMI(clustering$classification,as.matrix(labels)[,1]))\n",
    "  ari=cbind(ari,ARI(clustering$classification,as.matrix(labels)[,1]))\n",
    "}\n",
    "\n",
    "NMIPCA=as.vector(nmi);\n",
    "print(mean(NMIPCA))\n",
    "ARIPCA=as.vector(ari);\n",
    "print(mean(ARIPCA))\n",
    "\n",
    "# print(\"yess\")\n",
    "\n",
    "# print(args)"
   ]
  },
  {
   "cell_type": "code",
   "execution_count": null,
   "metadata": {},
   "outputs": [],
   "source": []
  },
  {
   "cell_type": "code",
   "execution_count": null,
   "metadata": {},
   "outputs": [],
   "source": []
  },
  {
   "cell_type": "code",
   "execution_count": null,
   "metadata": {},
   "outputs": [],
   "source": []
  },
  {
   "cell_type": "code",
   "execution_count": null,
   "metadata": {},
   "outputs": [],
   "source": []
  },
  {
   "cell_type": "markdown",
   "metadata": {},
   "source": [
    "### AE 10"
   ]
  },
  {
   "cell_type": "code",
   "execution_count": 8,
   "metadata": {},
   "outputs": [
    {
     "data": {
      "text/html": [
       "<ol class=list-inline>\n",
       "\t<li>0.619148480401683</li>\n",
       "\t<li>0.622058475409507</li>\n",
       "\t<li>0.599357598184059</li>\n",
       "\t<li>0.611669946777276</li>\n",
       "\t<li>0.612980116108482</li>\n",
       "\t<li>0.6194605223113</li>\n",
       "\t<li>0.611809445804786</li>\n",
       "\t<li>0.609646195077058</li>\n",
       "\t<li>0.620292913556716</li>\n",
       "\t<li>0.629093044390368</li>\n",
       "</ol>\n"
      ],
      "text/latex": [
       "\\begin{enumerate*}\n",
       "\\item 0.619148480401683\n",
       "\\item 0.622058475409507\n",
       "\\item 0.599357598184059\n",
       "\\item 0.611669946777276\n",
       "\\item 0.612980116108482\n",
       "\\item 0.6194605223113\n",
       "\\item 0.611809445804786\n",
       "\\item 0.609646195077058\n",
       "\\item 0.620292913556716\n",
       "\\item 0.629093044390368\n",
       "\\end{enumerate*}\n"
      ],
      "text/markdown": [
       "1. 0.619148480401683\n",
       "2. 0.622058475409507\n",
       "3. 0.599357598184059\n",
       "4. 0.611669946777276\n",
       "5. 0.612980116108482\n",
       "6. 0.6194605223113\n",
       "7. 0.611809445804786\n",
       "8. 0.609646195077058\n",
       "9. 0.620292913556716\n",
       "10. 0.629093044390368\n",
       "\n",
       "\n"
      ],
      "text/plain": [
       " [1] 0.6191485 0.6220585 0.5993576 0.6116699 0.6129801 0.6194605 0.6118094\n",
       " [8] 0.6096462 0.6202929 0.6290930"
      ]
     },
     "metadata": {},
     "output_type": "display_data"
    }
   ],
   "source": [
    "NMIPCA"
   ]
  },
  {
   "cell_type": "code",
   "execution_count": 9,
   "metadata": {},
   "outputs": [
    {
     "data": {
      "text/html": [
       "<ol class=list-inline>\n",
       "\t<li>0.471868884412653</li>\n",
       "\t<li>0.473620546320627</li>\n",
       "\t<li>0.454919443867452</li>\n",
       "\t<li>0.459938250291911</li>\n",
       "\t<li>0.461576024312166</li>\n",
       "\t<li>0.45192332803295</li>\n",
       "\t<li>0.460523771935872</li>\n",
       "\t<li>0.48255091040172</li>\n",
       "\t<li>0.471828078063006</li>\n",
       "\t<li>0.500065401234325</li>\n",
       "</ol>\n"
      ],
      "text/latex": [
       "\\begin{enumerate*}\n",
       "\\item 0.471868884412653\n",
       "\\item 0.473620546320627\n",
       "\\item 0.454919443867452\n",
       "\\item 0.459938250291911\n",
       "\\item 0.461576024312166\n",
       "\\item 0.45192332803295\n",
       "\\item 0.460523771935872\n",
       "\\item 0.48255091040172\n",
       "\\item 0.471828078063006\n",
       "\\item 0.500065401234325\n",
       "\\end{enumerate*}\n"
      ],
      "text/markdown": [
       "1. 0.471868884412653\n",
       "2. 0.473620546320627\n",
       "3. 0.454919443867452\n",
       "4. 0.459938250291911\n",
       "5. 0.461576024312166\n",
       "6. 0.45192332803295\n",
       "7. 0.460523771935872\n",
       "8. 0.48255091040172\n",
       "9. 0.471828078063006\n",
       "10. 0.500065401234325\n",
       "\n",
       "\n"
      ],
      "text/plain": [
       " [1] 0.4718689 0.4736205 0.4549194 0.4599383 0.4615760 0.4519233 0.4605238\n",
       " [8] 0.4825509 0.4718281 0.5000654"
      ]
     },
     "metadata": {},
     "output_type": "display_data"
    }
   ],
   "source": [
    "ARIPCA"
   ]
  },
  {
   "cell_type": "markdown",
   "metadata": {},
   "source": [
    "## l2_10_bottle.csv"
   ]
  },
  {
   "cell_type": "code",
   "execution_count": 4,
   "metadata": {},
   "outputs": [
    {
     "data": {
      "text/html": [
       "<ol class=list-inline>\n",
       "\t<li>0.59950551147337</li>\n",
       "\t<li>0.601091239349085</li>\n",
       "\t<li>0.54311717250549</li>\n",
       "\t<li>0.597537710679905</li>\n",
       "\t<li>0.587600847075636</li>\n",
       "\t<li>0.598794709347046</li>\n",
       "\t<li>0.595742666976543</li>\n",
       "\t<li>0.579362020497114</li>\n",
       "\t<li>0.616648613358121</li>\n",
       "\t<li>0.61260913026262</li>\n",
       "</ol>\n"
      ],
      "text/latex": [
       "\\begin{enumerate*}\n",
       "\\item 0.59950551147337\n",
       "\\item 0.601091239349085\n",
       "\\item 0.54311717250549\n",
       "\\item 0.597537710679905\n",
       "\\item 0.587600847075636\n",
       "\\item 0.598794709347046\n",
       "\\item 0.595742666976543\n",
       "\\item 0.579362020497114\n",
       "\\item 0.616648613358121\n",
       "\\item 0.61260913026262\n",
       "\\end{enumerate*}\n"
      ],
      "text/markdown": [
       "1. 0.59950551147337\n",
       "2. 0.601091239349085\n",
       "3. 0.54311717250549\n",
       "4. 0.597537710679905\n",
       "5. 0.587600847075636\n",
       "6. 0.598794709347046\n",
       "7. 0.595742666976543\n",
       "8. 0.579362020497114\n",
       "9. 0.616648613358121\n",
       "10. 0.61260913026262\n",
       "\n",
       "\n"
      ],
      "text/plain": [
       " [1] 0.5995055 0.6010912 0.5431172 0.5975377 0.5876008 0.5987947 0.5957427\n",
       " [8] 0.5793620 0.6166486 0.6126091"
      ]
     },
     "metadata": {},
     "output_type": "display_data"
    }
   ],
   "source": [
    "NMIPCA"
   ]
  },
  {
   "cell_type": "code",
   "execution_count": 5,
   "metadata": {},
   "outputs": [
    {
     "data": {
      "text/html": [
       "<ol class=list-inline>\n",
       "\t<li>0.457632485486077</li>\n",
       "\t<li>0.470730849785954</li>\n",
       "\t<li>0.394230238595786</li>\n",
       "\t<li>0.461143449463226</li>\n",
       "\t<li>0.449130831978039</li>\n",
       "\t<li>0.458392600912729</li>\n",
       "\t<li>0.454719565660419</li>\n",
       "\t<li>0.432363279715639</li>\n",
       "\t<li>0.494068143860256</li>\n",
       "\t<li>0.489458186890921</li>\n",
       "</ol>\n"
      ],
      "text/latex": [
       "\\begin{enumerate*}\n",
       "\\item 0.457632485486077\n",
       "\\item 0.470730849785954\n",
       "\\item 0.394230238595786\n",
       "\\item 0.461143449463226\n",
       "\\item 0.449130831978039\n",
       "\\item 0.458392600912729\n",
       "\\item 0.454719565660419\n",
       "\\item 0.432363279715639\n",
       "\\item 0.494068143860256\n",
       "\\item 0.489458186890921\n",
       "\\end{enumerate*}\n"
      ],
      "text/markdown": [
       "1. 0.457632485486077\n",
       "2. 0.470730849785954\n",
       "3. 0.394230238595786\n",
       "4. 0.461143449463226\n",
       "5. 0.449130831978039\n",
       "6. 0.458392600912729\n",
       "7. 0.454719565660419\n",
       "8. 0.432363279715639\n",
       "9. 0.494068143860256\n",
       "10. 0.489458186890921\n",
       "\n",
       "\n"
      ],
      "text/plain": [
       " [1] 0.4576325 0.4707308 0.3942302 0.4611434 0.4491308 0.4583926 0.4547196\n",
       " [8] 0.4323633 0.4940681 0.4894582"
      ]
     },
     "metadata": {},
     "output_type": "display_data"
    }
   ],
   "source": [
    "ARIPCA"
   ]
  },
  {
   "cell_type": "code",
   "execution_count": 11,
   "metadata": {},
   "outputs": [],
   "source": [
    "write.csv(NMIPCA,\"/home/yannis/Developpement/cours/DeepReduc/resultat/DAELLE2_NMI.csv\")\n",
    "write.csv(ARIPCA,\"/home/yannis/Developpement/cours/DeepReduc/resultat/DAELLE2_ARI.csv\")"
   ]
  },
  {
   "cell_type": "code",
   "execution_count": null,
   "metadata": {},
   "outputs": [],
   "source": []
  },
  {
   "cell_type": "code",
   "execution_count": null,
   "metadata": {},
   "outputs": [],
   "source": []
  }
 ],
 "metadata": {
  "kernelspec": {
   "display_name": "R",
   "language": "R",
   "name": "ir"
  },
  "language_info": {
   "codemirror_mode": "r",
   "file_extension": ".r",
   "mimetype": "text/x-r-source",
   "name": "R",
   "pygments_lexer": "r",
   "version": "3.5.1"
  }
 },
 "nbformat": 4,
 "nbformat_minor": 2
}
