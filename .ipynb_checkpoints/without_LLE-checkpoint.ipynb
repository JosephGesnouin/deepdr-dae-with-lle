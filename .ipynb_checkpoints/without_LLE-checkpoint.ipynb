{
 "cells": [
  {
   "cell_type": "code",
   "execution_count": 3,
   "metadata": {},
   "outputs": [],
   "source": [
    "import numpy as np\n",
    "from scipy.sparse import eye as speye\n",
    "from scipy.sparse.csgraph import laplacian\n",
    "from sklearn.manifold.locally_linear import (\n",
    "    barycenter_kneighbors_graph, null_space, LocallyLinearEmbedding)\n",
    "from sklearn.metrics.pairwise import pairwise_distances, rbf_kernel\n",
    "from sklearn.neighbors import NearestNeighbors\n",
    "from scipy.linalg import eigh, svd, qr, solve\n",
    "from scipy.sparse import eye, csr_matrix\n",
    "from scipy.sparse.linalg import eigsh\n",
    "from keras.datasets import mnist, fashion_mnist\n",
    "import pandas as pd\n",
    "from sklearn.metrics.cluster import adjusted_rand_score\n",
    "from sklearn.metrics.cluster import normalized_mutual_info_score\n",
    "from keras.layers import Input, Dense, concatenate, Lambda\n",
    "from keras.models import Model\n",
    "from keras import optimizers, objectives\n",
    "from keras import backend as K\n",
    "import matplotlib.pyplot as plt\n",
    "import tensorflow as tf\n",
    "from tqdm import tqdm\n",
    "from sklearn.decomposition import PCA\n",
    "import glob"
   ]
  },
  {
   "cell_type": "code",
   "execution_count": 4,
   "metadata": {},
   "outputs": [],
   "source": [
    "(x_train, y_train), (x_test, y_test) = mnist.load_data()\n",
    "x_train = x_train.astype('float32') / 255.\n",
    "x_test = x_test.astype('float32') / 255.\n",
    "x_train = x_train.reshape((len(x_train), np.prod(x_train.shape[1:])))\n",
    "x_test = x_test.reshape((len(x_test), np.prod(x_test.shape[1:])))\n",
    "\n",
    "(train_images, train_labels), (test_images, test_labels) = fashion_mnist.load_data()\n",
    "train_images = train_images.astype('float32') / 255.\n",
    "train_images = train_images.reshape((len(x_train), np.prod(train_images.shape[1:])))"
   ]
  },
  {
   "cell_type": "code",
   "execution_count": null,
   "metadata": {},
   "outputs": [],
   "source": []
  },
  {
   "cell_type": "code",
   "execution_count": 5,
   "metadata": {},
   "outputs": [],
   "source": [
    "input_img = Input(shape=(784,))\n",
    "# encoded = Dense(128, activation='relu')(input_img)\n",
    "encoded = Dense(64, activation='relu')(input_img)\n",
    "\n",
    "bottlenek = Dense(10, activation='relu', name=\"bottleneck\")(encoded)\n",
    "\n",
    "decoded = Dense(64, activation='relu')(bottlenek)\n",
    "# decoded = Dense(128, activation='relu')(decoded)\n",
    "output = Dense(784, activation='sigmoid', name=\"logits\")(decoded)\n",
    "\n",
    "\n",
    "autoencoder = Model(input_img, output)\n",
    "autoencoder.compile(optimizer='adadelta', loss='binary_crossentropy')"
   ]
  },
  {
   "cell_type": "code",
   "execution_count": 7,
   "metadata": {},
   "outputs": [],
   "source": [
    "autoencoder.fit(x_train, x_train,epochs=40)"
   ]
  },
  {
   "cell_type": "code",
   "execution_count": 8,
   "metadata": {},
   "outputs": [],
   "source": [
    "bottleneck_model = Model(inputs=autoencoder.input, outputs=autoencoder.get_layer(\"bottleneck\").output)"
   ]
  },
  {
   "cell_type": "code",
   "execution_count": 10,
   "metadata": {},
   "outputs": [],
   "source": [
    "b = bottleneck_model.predict(x_train)"
   ]
  },
  {
   "cell_type": "code",
   "execution_count": 12,
   "metadata": {},
   "outputs": [],
   "source": [
    "pd.DataFrame(b).to_csv(\"resultat/bottle_dae.csv\", index=False, header=False)"
   ]
  },
  {
   "cell_type": "code",
   "execution_count": null,
   "metadata": {},
   "outputs": [],
   "source": []
  }
 ],
 "metadata": {
  "kernelspec": {
   "display_name": "Python 3",
   "language": "python",
   "name": "python3"
  },
  "language_info": {
   "codemirror_mode": {
    "name": "ipython",
    "version": 3
   },
   "file_extension": ".py",
   "mimetype": "text/x-python",
   "name": "python",
   "nbconvert_exporter": "python",
   "pygments_lexer": "ipython3",
   "version": "3.6.8"
  }
 },
 "nbformat": 4,
 "nbformat_minor": 2
}
