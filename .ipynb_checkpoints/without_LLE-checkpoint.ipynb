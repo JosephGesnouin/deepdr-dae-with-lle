{
 "cells": [
  {
   "cell_type": "code",
   "execution_count": 3,
   "metadata": {},
   "outputs": [],
   "source": [
    "import numpy as np\n",
    "from scipy.sparse import eye as speye\n",
    "from scipy.sparse.csgraph import laplacian\n",
    "from sklearn.manifold.locally_linear import (\n",
    "    barycenter_kneighbors_graph, null_space, LocallyLinearEmbedding)\n",
    "from sklearn.metrics.pairwise import pairwise_distances, rbf_kernel\n",
    "from sklearn.neighbors import NearestNeighbors\n",
    "from scipy.linalg import eigh, svd, qr, solve\n",
    "from scipy.sparse import eye, csr_matrix\n",
    "from scipy.sparse.linalg import eigsh\n",
    "from keras.datasets import mnist, fashion_mnist\n",
    "import pandas as pd\n",
    "from sklearn.metrics.cluster import adjusted_rand_score\n",
    "from sklearn.metrics.cluster import normalized_mutual_info_score\n",
    "from keras.layers import Input, Dense, concatenate, Lambda\n",
    "from keras.models import Model\n",
    "from keras import optimizers, objectives\n",
    "from keras import backend as K\n",
    "import matplotlib.pyplot as plt\n",
    "import tensorflow as tf\n",
    "from tqdm import tqdm\n",
    "from sklearn.decomposition import PCA\n",
    "import glob"
   ]
  },
  {
   "cell_type": "code",
   "execution_count": 4,
   "metadata": {},
   "outputs": [],
   "source": [
    "(x_train, y_train), (x_test, y_test) = mnist.load_data()\n",
    "x_train = x_train.astype('float32') / 255.\n",
    "x_test = x_test.astype('float32') / 255.\n",
    "x_train = x_train.reshape((len(x_train), np.prod(x_train.shape[1:])))\n",
    "x_test = x_test.reshape((len(x_test), np.prod(x_test.shape[1:])))\n",
    "\n",
    "(train_images, train_labels), (test_images, test_labels) = fashion_mnist.load_data()\n",
    "train_images = train_images.astype('float32') / 255.\n",
    "train_images = train_images.reshape((len(x_train), np.prod(train_images.shape[1:])))"
   ]
  },
  {
   "cell_type": "code",
   "execution_count": null,
   "metadata": {},
   "outputs": [],
   "source": []
  },
  {
   "cell_type": "code",
   "execution_count": 14,
   "metadata": {},
   "outputs": [],
   "source": [
    "input_img = Input(shape=(784,))\n",
    "# encoded = Dense(128, activation='relu')(input_img)\n",
    "encoded = Dense(64, activation='relu')(input_img)\n",
    "\n",
    "bottlenek = Dense(10, activation='relu', name=\"bottleneck\")(encoded)\n",
    "\n",
    "decoded = Dense(64, activation='relu')(bottlenek)\n",
    "# decoded = Dense(128, activation='relu')(decoded)\n",
    "output = Dense(784, activation='sigmoid', name=\"logits\")(decoded)\n",
    "\n",
    "\n",
    "autoencoder = Model(input_img, output)\n",
    "autoencoder.compile(optimizer='adadelta', loss='binary_crossentropy')"
   ]
  },
  {
   "cell_type": "code",
   "execution_count": 15,
   "metadata": {},
   "outputs": [
    {
     "name": "stdout",
     "output_type": "stream",
     "text": [
      "Epoch 1/30\n",
      "60000/60000 [==============================] - 8s 128us/step - loss: 0.2499\n",
      "Epoch 2/30\n",
      "60000/60000 [==============================] - 8s 132us/step - loss: 0.1816\n",
      "Epoch 3/30\n",
      "60000/60000 [==============================] - 8s 131us/step - loss: 0.1662\n",
      "Epoch 4/30\n",
      "60000/60000 [==============================] - 8s 132us/step - loss: 0.1547\n",
      "Epoch 5/30\n",
      "60000/60000 [==============================] - 7s 124us/step - loss: 0.1488\n",
      "Epoch 6/30\n",
      "60000/60000 [==============================] - 8s 127us/step - loss: 0.1456\n",
      "Epoch 7/30\n",
      "60000/60000 [==============================] - 8s 132us/step - loss: 0.1433\n",
      "Epoch 8/30\n",
      "60000/60000 [==============================] - 8s 125us/step - loss: 0.1415\n",
      "Epoch 9/30\n",
      "60000/60000 [==============================] - 8s 127us/step - loss: 0.1400\n",
      "Epoch 10/30\n",
      "60000/60000 [==============================] - 8s 132us/step - loss: 0.1387\n",
      "Epoch 11/30\n",
      "60000/60000 [==============================] - 8s 133us/step - loss: 0.1376\n",
      "Epoch 12/30\n",
      "60000/60000 [==============================] - 8s 133us/step - loss: 0.1366\n",
      "Epoch 13/30\n",
      "60000/60000 [==============================] - 8s 131us/step - loss: 0.1352\n",
      "Epoch 14/30\n",
      "60000/60000 [==============================] - 8s 132us/step - loss: 0.1331\n",
      "Epoch 15/30\n",
      "60000/60000 [==============================] - 8s 129us/step - loss: 0.1319\n",
      "Epoch 16/30\n",
      "60000/60000 [==============================] - 8s 132us/step - loss: 0.1310\n",
      "Epoch 17/30\n",
      "60000/60000 [==============================] - 8s 130us/step - loss: 0.1303\n",
      "Epoch 18/30\n",
      "60000/60000 [==============================] - 8s 130us/step - loss: 0.1297\n",
      "Epoch 19/30\n",
      "60000/60000 [==============================] - 8s 130us/step - loss: 0.1291\n",
      "Epoch 20/30\n",
      "60000/60000 [==============================] - 8s 131us/step - loss: 0.1286\n",
      "Epoch 21/30\n",
      "60000/60000 [==============================] - 8s 129us/step - loss: 0.1282\n",
      "Epoch 22/30\n",
      "60000/60000 [==============================] - 8s 127us/step - loss: 0.1277\n",
      "Epoch 23/30\n",
      "60000/60000 [==============================] - 8s 130us/step - loss: 0.1273\n",
      "Epoch 24/30\n",
      "60000/60000 [==============================] - 8s 129us/step - loss: 0.1270\n",
      "Epoch 25/30\n",
      "60000/60000 [==============================] - 8s 130us/step - loss: 0.1266\n",
      "Epoch 26/30\n",
      "60000/60000 [==============================] - 8s 129us/step - loss: 0.1263\n",
      "Epoch 27/30\n",
      "60000/60000 [==============================] - 8s 129us/step - loss: 0.1259\n",
      "Epoch 28/30\n",
      "60000/60000 [==============================] - 8s 130us/step - loss: 0.1256\n",
      "Epoch 29/30\n",
      "60000/60000 [==============================] - 8s 127us/step - loss: 0.1254\n",
      "Epoch 30/30\n",
      "60000/60000 [==============================] - 8s 129us/step - loss: 0.1251\n"
     ]
    },
    {
     "data": {
      "text/plain": [
       "<keras.callbacks.History at 0x7fab32c924e0>"
      ]
     },
     "execution_count": 15,
     "metadata": {},
     "output_type": "execute_result"
    }
   ],
   "source": [
    "autoencoder.fit(x_train, x_train,epochs=30)"
   ]
  },
  {
   "cell_type": "code",
   "execution_count": 8,
   "metadata": {},
   "outputs": [],
   "source": [
    "bottleneck_model = Model(inputs=autoencoder.input, outputs=autoencoder.get_layer(\"bottleneck\").output)"
   ]
  },
  {
   "cell_type": "code",
   "execution_count": 10,
   "metadata": {},
   "outputs": [],
   "source": [
    "b = bottleneck_model.predict(x_train)"
   ]
  },
  {
   "cell_type": "code",
   "execution_count": 12,
   "metadata": {},
   "outputs": [],
   "source": [
    "pd.DataFrame(b).to_csv(\"resultat/bottle_dae.csv\", index=False, header=False)"
   ]
  },
  {
   "cell_type": "code",
   "execution_count": null,
   "metadata": {},
   "outputs": [],
   "source": []
  },
  {
   "cell_type": "code",
   "execution_count": null,
   "metadata": {},
   "outputs": [],
   "source": []
  },
  {
   "cell_type": "markdown",
   "metadata": {},
   "source": [
    "## Lsta"
   ]
  },
  {
   "cell_type": "code",
   "execution_count": 28,
   "metadata": {},
   "outputs": [],
   "source": [
    "from sklearn.manifold import LocallyLinearEmbedding"
   ]
  },
  {
   "cell_type": "code",
   "execution_count": 29,
   "metadata": {},
   "outputs": [],
   "source": [
    "embedding = LocallyLinearEmbedding(n_components=2, method=\"ltsa\")"
   ]
  },
  {
   "cell_type": "code",
   "execution_count": 1,
   "metadata": {},
   "outputs": [],
   "source": [
    "X_transformed = embedding.fit_transform(x_train)"
   ]
  },
  {
   "cell_type": "code",
   "execution_count": null,
   "metadata": {},
   "outputs": [],
   "source": []
  },
  {
   "cell_type": "markdown",
   "metadata": {},
   "source": [
    "## NMF"
   ]
  },
  {
   "cell_type": "code",
   "execution_count": 20,
   "metadata": {},
   "outputs": [],
   "source": [
    "from sklearn.decomposition import NMF\n",
    "model = NMF(n_components=10, init='nndsvd', random_state=0)\n",
    "W = model.fit_transform(x_train)\n",
    "H = model.components_"
   ]
  },
  {
   "cell_type": "code",
   "execution_count": 23,
   "metadata": {},
   "outputs": [],
   "source": [
    "pd.DataFrame(W).to_csv(\"resultat/nmf.csv\", index=False, header=False)"
   ]
  },
  {
   "cell_type": "code",
   "execution_count": null,
   "metadata": {},
   "outputs": [],
   "source": []
  },
  {
   "cell_type": "markdown",
   "metadata": {},
   "source": [
    "### MDS"
   ]
  },
  {
   "cell_type": "code",
   "execution_count": 16,
   "metadata": {},
   "outputs": [],
   "source": [
    "from sklearn.manifold import MDS"
   ]
  },
  {
   "cell_type": "code",
   "execution_count": 2,
   "metadata": {},
   "outputs": [],
   "source": [
    "embedding = MDS(n_components=2)\n",
    "X_transformed = embedding.fit_transform(x_train)"
   ]
  },
  {
   "cell_type": "code",
   "execution_count": null,
   "metadata": {},
   "outputs": [],
   "source": []
  }
 ],
 "metadata": {
  "kernelspec": {
   "display_name": "Python 3",
   "language": "python",
   "name": "python3"
  },
  "language_info": {
   "codemirror_mode": {
    "name": "ipython",
    "version": 3
   },
   "file_extension": ".py",
   "mimetype": "text/x-python",
   "name": "python",
   "nbconvert_exporter": "python",
   "pygments_lexer": "ipython3",
   "version": "3.6.8"
  }
 },
 "nbformat": 4,
 "nbformat_minor": 2
}
