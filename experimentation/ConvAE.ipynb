{
 "cells": [
  {
   "cell_type": "code",
   "execution_count": 5,
   "metadata": {},
   "outputs": [],
   "source": [
    "import numpy as np\n",
    "from keras.datasets import mnist, fashion_mnist\n",
    "import pandas as pd\n",
    "from keras.layers import Input, Dense, concatenate\n",
    "from keras.models import Model, load_model\n",
    "from keras import optimizers\n",
    "from keras import backend as K\n",
    "import matplotlib.pyplot as plt\n",
    "import tensorflow as tf\n",
    "from sklearn.cluster import KMeans\n",
    "from sklearn.metrics.cluster import adjusted_rand_score\n",
    "from sklearn.metrics.cluster import normalized_mutual_info_score\n",
    "from tqdm import tqdm\n",
    "from sklearn.decomposition import PCA\n",
    "import glob\n",
    "import matplotlib.pyplot as plt\n",
    "from sklearn.manifold import TSNE\n",
    "from keras import objectives, layers"
   ]
  },
  {
   "cell_type": "code",
   "execution_count": 35,
   "metadata": {},
   "outputs": [],
   "source": [
    "(x_train, y_train), (x_test, y_test) = fashion_mnist.load_data()\n",
    "x_train = x_train.astype('float32') / 255.\n",
    "x_test = x_test.astype('float32') / 255.\n",
    "x_train = np.reshape(x_train, (len(x_train), 28, 28, 1))  # adapt this if using `channels_first` image data format\n",
    "x_test = np.reshape(x_test, (len(x_test), 28, 28, 1)) "
   ]
  },
  {
   "cell_type": "code",
   "execution_count": null,
   "metadata": {},
   "outputs": [],
   "source": []
  },
  {
   "cell_type": "code",
   "execution_count": 117,
   "metadata": {},
   "outputs": [],
   "source": [
    "input_img = Input(shape=(28, 28, 1))  # adapt this if using `channels_first` image data format\n",
    "\n",
    "x = layers.Conv2D(16, (3, 3), activation='relu', padding='same')(input_img)\n",
    "x = layers.MaxPooling2D((2, 2), padding='same')(x)\n",
    "x = layers.Conv2D(10, (3, 3), activation='relu', padding='same')(x)\n",
    "x = layers.MaxPooling2D((2, 2), padding='same')(x)\n",
    "x = layers.Conv2D(10, (3, 3), activation='relu', padding='same')(x)\n",
    "\n",
    "x = layers.MaxPooling2D((8, 8), padding='same')(x)\n",
    "encoded = layers.Flatten(name=\"bottleneck\")(x)\n",
    "x = layers.Reshape((1,1,10))(encoded)\n",
    "# at this point the representation is (4, 4, 8) i.e. 128-dimensional\n",
    "\n",
    "x = layers.Conv2D(10, (3, 3), activation='relu', padding='same')(x)\n",
    "x = layers.UpSampling2D((8, 8))(x)\n",
    "x = layers.Conv2D(10, (3, 3), activation='relu', padding='same')(x)\n",
    "x = layers.UpSampling2D((2, 2))(x)\n",
    "x = layers.Conv2D(16, (3, 3), activation='relu')(x)\n",
    "x = layers.UpSampling2D((2, 2))(x)\n",
    "decoded = layers.Conv2D(1, (3, 3), activation='sigmoid', padding='same')(x)\n",
    "\n",
    "autoencoder = Model(input_img, decoded)\n",
    "autoencoder.compile(optimizer='adadelta', loss='binary_crossentropy')"
   ]
  },
  {
   "cell_type": "code",
   "execution_count": 118,
   "metadata": {},
   "outputs": [
    {
     "name": "stdout",
     "output_type": "stream",
     "text": [
      "_________________________________________________________________\n",
      "Layer (type)                 Output Shape              Param #   \n",
      "=================================================================\n",
      "input_47 (InputLayer)        (None, 28, 28, 1)         0         \n",
      "_________________________________________________________________\n",
      "conv2d_276 (Conv2D)          (None, 28, 28, 16)        160       \n",
      "_________________________________________________________________\n",
      "max_pooling2d_94 (MaxPooling (None, 14, 14, 16)        0         \n",
      "_________________________________________________________________\n",
      "conv2d_277 (Conv2D)          (None, 14, 14, 10)        1450      \n",
      "_________________________________________________________________\n",
      "max_pooling2d_95 (MaxPooling (None, 7, 7, 10)          0         \n",
      "_________________________________________________________________\n",
      "conv2d_278 (Conv2D)          (None, 7, 7, 10)          910       \n",
      "_________________________________________________________________\n",
      "max_pooling2d_96 (MaxPooling (None, 1, 1, 10)          0         \n",
      "_________________________________________________________________\n",
      "bottleneck (Flatten)         (None, 10)                0         \n",
      "_________________________________________________________________\n",
      "reshape_7 (Reshape)          (None, 1, 1, 10)          0         \n",
      "_________________________________________________________________\n",
      "conv2d_279 (Conv2D)          (None, 1, 1, 10)          910       \n",
      "_________________________________________________________________\n",
      "up_sampling2d_114 (UpSamplin (None, 8, 8, 10)          0         \n",
      "_________________________________________________________________\n",
      "conv2d_280 (Conv2D)          (None, 8, 8, 10)          910       \n",
      "_________________________________________________________________\n",
      "up_sampling2d_115 (UpSamplin (None, 16, 16, 10)        0         \n",
      "_________________________________________________________________\n",
      "conv2d_281 (Conv2D)          (None, 14, 14, 16)        1456      \n",
      "_________________________________________________________________\n",
      "up_sampling2d_116 (UpSamplin (None, 28, 28, 16)        0         \n",
      "_________________________________________________________________\n",
      "conv2d_282 (Conv2D)          (None, 28, 28, 1)         145       \n",
      "=================================================================\n",
      "Total params: 5,941\n",
      "Trainable params: 5,941\n",
      "Non-trainable params: 0\n",
      "_________________________________________________________________\n"
     ]
    }
   ],
   "source": [
    "autoencoder.summary()"
   ]
  },
  {
   "cell_type": "code",
   "execution_count": null,
   "metadata": {},
   "outputs": [],
   "source": []
  },
  {
   "cell_type": "code",
   "execution_count": 119,
   "metadata": {},
   "outputs": [
    {
     "name": "stdout",
     "output_type": "stream",
     "text": [
      "Epoch 1/5\n",
      "60000/60000 [==============================] - 15s 246us/step - loss: 0.4468\n",
      "Epoch 2/5\n",
      "60000/60000 [==============================] - 14s 230us/step - loss: 0.4153\n",
      "Epoch 3/5\n",
      "60000/60000 [==============================] - 14s 228us/step - loss: 0.4112\n",
      "Epoch 4/5\n",
      "60000/60000 [==============================] - 14s 230us/step - loss: 0.4092\n",
      "Epoch 5/5\n",
      "60000/60000 [==============================] - 14s 231us/step - loss: 0.4078\n"
     ]
    },
    {
     "data": {
      "text/plain": [
       "<keras.callbacks.History at 0x7f9788543a90>"
      ]
     },
     "execution_count": 119,
     "metadata": {},
     "output_type": "execute_result"
    }
   ],
   "source": [
    "autoencoder.fit(x_train, x_train,epochs=2)"
   ]
  },
  {
   "cell_type": "code",
   "execution_count": null,
   "metadata": {},
   "outputs": [],
   "source": []
  },
  {
   "cell_type": "code",
   "execution_count": 120,
   "metadata": {},
   "outputs": [],
   "source": [
    "bottleneck_model = Model(inputs=autoencoder.input, outputs=autoencoder.get_layer(\"bottleneck\").output)"
   ]
  },
  {
   "cell_type": "code",
   "execution_count": 121,
   "metadata": {},
   "outputs": [],
   "source": [
    "bt_train = bottleneck_model.predict(x_train)"
   ]
  },
  {
   "cell_type": "code",
   "execution_count": 122,
   "metadata": {},
   "outputs": [],
   "source": [
    "pd.DataFrame(bt_train).to_csv(\"result_fashion/conv_ae_10_flatten.csv\", index=False)"
   ]
  },
  {
   "cell_type": "code",
   "execution_count": null,
   "metadata": {},
   "outputs": [],
   "source": []
  }
 ],
 "metadata": {
  "kernelspec": {
   "display_name": "Python 3",
   "language": "python",
   "name": "python3"
  },
  "language_info": {
   "codemirror_mode": {
    "name": "ipython",
    "version": 3
   },
   "file_extension": ".py",
   "mimetype": "text/x-python",
   "name": "python",
   "nbconvert_exporter": "python",
   "pygments_lexer": "ipython3",
   "version": "3.6.8"
  }
 },
 "nbformat": 4,
 "nbformat_minor": 2
}
