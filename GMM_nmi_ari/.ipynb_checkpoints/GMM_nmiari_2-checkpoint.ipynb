{
 "cells": [
  {
   "cell_type": "code",
   "execution_count": 1,
   "metadata": {},
   "outputs": [
    {
     "name": "stderr",
     "output_type": "stream",
     "text": [
      "Package 'mclust' version 5.4.1\n",
      "Type 'citation(\"mclust\")' for citing this R package in publications.\n"
     ]
    }
   ],
   "source": [
    "library(readr)\n",
    "library(mclust)\n",
    "library(aricode)"
   ]
  },
  {
   "cell_type": "code",
   "execution_count": null,
   "metadata": {},
   "outputs": [],
   "source": []
  },
  {
   "cell_type": "code",
   "execution_count": 16,
   "metadata": {},
   "outputs": [
    {
     "name": "stderr",
     "output_type": "stream",
     "text": [
      "Parsed with column specification:\n",
      "cols(\n",
      "  `2.703414` = col_double(),\n",
      "  `11.381301` = col_double(),\n",
      "  `0.0` = col_double(),\n",
      "  `8.962563` = col_double(),\n",
      "  `10.333805` = col_double(),\n",
      "  `2.76969` = col_double(),\n",
      "  `7.5620522` = col_double(),\n",
      "  `5.5297747` = col_double(),\n",
      "  `5.329721` = col_double(),\n",
      "  `7.1447725` = col_double()\n",
      ")\n",
      "Parsed with column specification:\n",
      "cols(\n",
      "  `5` = col_integer()\n",
      ")\n"
     ]
    },
    {
     "name": "stdout",
     "output_type": "stream",
     "text": [
      "[1] 0.7933641\n",
      "[1] 0.7159921\n"
     ]
    }
   ],
   "source": [
    "args = \"/result_/dae2_lle.csv\"\n",
    "\n",
    "\n",
    "x <- c(\"~/Developpement/cours/DeepReduc\", args)\n",
    "bottle <- read_csv(paste(x, collapse=\"/\"))\n",
    "labels <- read_csv(\"~/Developpement/cours/DeepReduc/mnist_label.csv\")\n",
    "\n",
    "\n",
    "nmi=c()\n",
    "ari=c()\n",
    "for(i in 1:10){\n",
    "  clustering=Mclust(bottle,G=10)\n",
    "  nmi=cbind(nmi,NMI(clustering$classification,as.matrix(labels)[,1]))\n",
    "  ari=cbind(ari,ARI(clustering$classification,as.matrix(labels)[,1]))\n",
    "}\n",
    "\n",
    "NMIPCA=as.vector(nmi);\n",
    "print(mean(NMIPCA))\n",
    "ARIPCA=as.vector(ari);\n",
    "print(mean(ARIPCA))\n",
    "\n",
    "# print(\"yess\")\n",
    "\n",
    "# print(args)"
   ]
  },
  {
   "cell_type": "code",
   "execution_count": null,
   "metadata": {},
   "outputs": [],
   "source": []
  },
  {
   "cell_type": "code",
   "execution_count": 11,
   "metadata": {},
   "outputs": [],
   "source": [
    "write.csv(NMIPCA,\"/home/yannis/Developpement/cours/DeepReduc/resultat/DAELLE2_NMI.csv\")\n",
    "write.csv(ARIPCA,\"/home/yannis/Developpement/cours/DeepReduc/resultat/DAELLE2_ARI.csv\")"
   ]
  },
  {
   "cell_type": "code",
   "execution_count": null,
   "metadata": {},
   "outputs": [],
   "source": []
  },
  {
   "cell_type": "code",
   "execution_count": null,
   "metadata": {},
   "outputs": [],
   "source": []
  },
  {
   "cell_type": "code",
   "execution_count": 4,
   "metadata": {},
   "outputs": [
    {
     "data": {
      "text/html": [
       "<ol class=list-inline>\n",
       "\t<li>0.74367811639569</li>\n",
       "\t<li>0.744452560212247</li>\n",
       "\t<li>0.742552101003343</li>\n",
       "\t<li>0.747716336725298</li>\n",
       "\t<li>0.742244982333291</li>\n",
       "</ol>\n"
      ],
      "text/latex": [
       "\\begin{enumerate*}\n",
       "\\item 0.74367811639569\n",
       "\\item 0.744452560212247\n",
       "\\item 0.742552101003343\n",
       "\\item 0.747716336725298\n",
       "\\item 0.742244982333291\n",
       "\\end{enumerate*}\n"
      ],
      "text/markdown": [
       "1. 0.74367811639569\n",
       "2. 0.744452560212247\n",
       "3. 0.742552101003343\n",
       "4. 0.747716336725298\n",
       "5. 0.742244982333291\n",
       "\n",
       "\n"
      ],
      "text/plain": [
       "[1] 0.7436781 0.7444526 0.7425521 0.7477163 0.7422450"
      ]
     },
     "metadata": {},
     "output_type": "display_data"
    }
   ],
   "source": [
    "NMIPCA"
   ]
  },
  {
   "cell_type": "code",
   "execution_count": null,
   "metadata": {},
   "outputs": [],
   "source": []
  },
  {
   "cell_type": "code",
   "execution_count": null,
   "metadata": {},
   "outputs": [],
   "source": []
  }
 ],
 "metadata": {
  "kernelspec": {
   "display_name": "R",
   "language": "R",
   "name": "ir"
  },
  "language_info": {
   "codemirror_mode": "r",
   "file_extension": ".r",
   "mimetype": "text/x-r-source",
   "name": "R",
   "pygments_lexer": "r",
   "version": "3.5.1"
  }
 },
 "nbformat": 4,
 "nbformat_minor": 2
}
