{
 "cells": [
  {
   "cell_type": "code",
   "execution_count": 3,
   "metadata": {},
   "outputs": [],
   "source": [
    "library(readr)\n",
    "library(mclust)\n",
    "library(aricode)"
   ]
  },
  {
   "cell_type": "code",
   "execution_count": null,
   "metadata": {},
   "outputs": [],
   "source": []
  },
  {
   "cell_type": "code",
   "execution_count": 5,
   "metadata": {},
   "outputs": [
    {
     "name": "stderr",
     "output_type": "stream",
     "text": [
      "Parsed with column specification:\n",
      "cols(\n",
      "  `0` = col_double(),\n",
      "  `1` = col_double(),\n",
      "  `2` = col_double(),\n",
      "  `3` = col_double(),\n",
      "  `4` = col_double(),\n",
      "  `5` = col_double(),\n",
      "  `6` = col_double(),\n",
      "  `7` = col_double(),\n",
      "  `8` = col_double(),\n",
      "  `9` = col_double()\n",
      ")\n",
      "Parsed with column specification:\n",
      "cols(\n",
      "  `0` = col_integer()\n",
      ")\n"
     ]
    },
    {
     "name": "stdout",
     "output_type": "stream",
     "text": [
      "[1] 0.62757\n",
      "[1] 0.4882803\n"
     ]
    }
   ],
   "source": [
    "args = \"/result_fashion/test05_2.csv\"\n",
    "\n",
    "\n",
    "x <- c(\"~/Developpement/cours/DeepReduc\", args)\n",
    "bottle <- read_csv(paste(x, collapse=\"/\"))\n",
    "labels <- read_csv(\"~/Developpement/cours/DeepReduc/fashion_labels.csv\")\n",
    "\n",
    "\n",
    "nmi=c()\n",
    "ari=c()\n",
    "for(i in 1:10){\n",
    "  clustering=Mclust(bottle,G=10)\n",
    "  nmi=cbind(nmi,NMI(clustering$classification,as.matrix(labels)[,1]))\n",
    "  ari=cbind(ari,ARI(clustering$classification,as.matrix(labels)[,1]))\n",
    "}\n",
    "\n",
    "NMIPCA=as.vector(nmi);\n",
    "print(mean(NMIPCA))\n",
    "ARIPCA=as.vector(ari);\n",
    "print(mean(ARIPCA))\n",
    "\n",
    "# print(\"yess\")\n",
    "\n",
    "# print(args)"
   ]
  },
  {
   "cell_type": "code",
   "execution_count": 6,
   "metadata": {},
   "outputs": [
    {
     "data": {
      "text/html": [
       "<ol class=list-inline>\n",
       "\t<li>0.630192259444389</li>\n",
       "\t<li>0.627004085347176</li>\n",
       "\t<li>0.629837209743122</li>\n",
       "\t<li>0.608760993313031</li>\n",
       "\t<li>0.631952981841094</li>\n",
       "\t<li>0.631450760229896</li>\n",
       "\t<li>0.633941273276874</li>\n",
       "\t<li>0.622074545488876</li>\n",
       "\t<li>0.632167142911944</li>\n",
       "\t<li>0.628319136997226</li>\n",
       "</ol>\n"
      ],
      "text/latex": [
       "\\begin{enumerate*}\n",
       "\\item 0.630192259444389\n",
       "\\item 0.627004085347176\n",
       "\\item 0.629837209743122\n",
       "\\item 0.608760993313031\n",
       "\\item 0.631952981841094\n",
       "\\item 0.631450760229896\n",
       "\\item 0.633941273276874\n",
       "\\item 0.622074545488876\n",
       "\\item 0.632167142911944\n",
       "\\item 0.628319136997226\n",
       "\\end{enumerate*}\n"
      ],
      "text/markdown": [
       "1. 0.630192259444389\n",
       "2. 0.627004085347176\n",
       "3. 0.629837209743122\n",
       "4. 0.608760993313031\n",
       "5. 0.631952981841094\n",
       "6. 0.631450760229896\n",
       "7. 0.633941273276874\n",
       "8. 0.622074545488876\n",
       "9. 0.632167142911944\n",
       "10. 0.628319136997226\n",
       "\n",
       "\n"
      ],
      "text/plain": [
       " [1] 0.6301923 0.6270041 0.6298372 0.6087610 0.6319530 0.6314508 0.6339413\n",
       " [8] 0.6220745 0.6321671 0.6283191"
      ]
     },
     "metadata": {},
     "output_type": "display_data"
    }
   ],
   "source": [
    "NMIPCA"
   ]
  },
  {
   "cell_type": "code",
   "execution_count": 7,
   "metadata": {},
   "outputs": [
    {
     "data": {
      "text/html": [
       "<ol class=list-inline>\n",
       "\t<li>0.479271445245877</li>\n",
       "\t<li>0.480300096512227</li>\n",
       "\t<li>0.494568885830407</li>\n",
       "\t<li>0.457631049825417</li>\n",
       "\t<li>0.489538216062641</li>\n",
       "\t<li>0.513117229233628</li>\n",
       "\t<li>0.491755807951356</li>\n",
       "\t<li>0.479546382602704</li>\n",
       "\t<li>0.488121408798719</li>\n",
       "\t<li>0.50895287020648</li>\n",
       "</ol>\n"
      ],
      "text/latex": [
       "\\begin{enumerate*}\n",
       "\\item 0.479271445245877\n",
       "\\item 0.480300096512227\n",
       "\\item 0.494568885830407\n",
       "\\item 0.457631049825417\n",
       "\\item 0.489538216062641\n",
       "\\item 0.513117229233628\n",
       "\\item 0.491755807951356\n",
       "\\item 0.479546382602704\n",
       "\\item 0.488121408798719\n",
       "\\item 0.50895287020648\n",
       "\\end{enumerate*}\n"
      ],
      "text/markdown": [
       "1. 0.479271445245877\n",
       "2. 0.480300096512227\n",
       "3. 0.494568885830407\n",
       "4. 0.457631049825417\n",
       "5. 0.489538216062641\n",
       "6. 0.513117229233628\n",
       "7. 0.491755807951356\n",
       "8. 0.479546382602704\n",
       "9. 0.488121408798719\n",
       "10. 0.50895287020648\n",
       "\n",
       "\n"
      ],
      "text/plain": [
       " [1] 0.4792714 0.4803001 0.4945689 0.4576310 0.4895382 0.5131172 0.4917558\n",
       " [8] 0.4795464 0.4881214 0.5089529"
      ]
     },
     "metadata": {},
     "output_type": "display_data"
    }
   ],
   "source": [
    "ARIPCA"
   ]
  },
  {
   "cell_type": "code",
   "execution_count": null,
   "metadata": {},
   "outputs": [],
   "source": []
  },
  {
   "cell_type": "code",
   "execution_count": null,
   "metadata": {},
   "outputs": [],
   "source": []
  },
  {
   "cell_type": "code",
   "execution_count": null,
   "metadata": {},
   "outputs": [],
   "source": [
    "[1] 0.6313543\n",
    "[1] 0.5064144"
   ]
  },
  {
   "cell_type": "code",
   "execution_count": null,
   "metadata": {},
   "outputs": [],
   "source": []
  },
  {
   "cell_type": "code",
   "execution_count": null,
   "metadata": {},
   "outputs": [],
   "source": []
  },
  {
   "cell_type": "code",
   "execution_count": 11,
   "metadata": {},
   "outputs": [],
   "source": [
    "write.csv(NMIPCA,\"/home/yannis/Developpement/cours/DeepReduc/resultat/DAELLE2_NMI.csv\")\n",
    "write.csv(ARIPCA,\"/home/yannis/Developpement/cours/DeepReduc/resultat/DAELLE2_ARI.csv\")"
   ]
  },
  {
   "cell_type": "code",
   "execution_count": null,
   "metadata": {},
   "outputs": [],
   "source": []
  },
  {
   "cell_type": "code",
   "execution_count": 5,
   "metadata": {},
   "outputs": [],
   "source": [
    "### l4_15_bottle.csv"
   ]
  },
  {
   "cell_type": "code",
   "execution_count": 3,
   "metadata": {},
   "outputs": [
    {
     "data": {
      "text/html": [
       "<ol class=list-inline>\n",
       "\t<li>0.572478206732707</li>\n",
       "\t<li>0.584058747184918</li>\n",
       "\t<li>0.601577190025519</li>\n",
       "\t<li>0.597093101076049</li>\n",
       "\t<li>0.603800897726682</li>\n",
       "\t<li>0.561321682795328</li>\n",
       "\t<li>0.609184529158227</li>\n",
       "\t<li>0.5970538822375</li>\n",
       "\t<li>0.613498823270611</li>\n",
       "\t<li>0.597001941677394</li>\n",
       "</ol>\n"
      ],
      "text/latex": [
       "\\begin{enumerate*}\n",
       "\\item 0.572478206732707\n",
       "\\item 0.584058747184918\n",
       "\\item 0.601577190025519\n",
       "\\item 0.597093101076049\n",
       "\\item 0.603800897726682\n",
       "\\item 0.561321682795328\n",
       "\\item 0.609184529158227\n",
       "\\item 0.5970538822375\n",
       "\\item 0.613498823270611\n",
       "\\item 0.597001941677394\n",
       "\\end{enumerate*}\n"
      ],
      "text/markdown": [
       "1. 0.572478206732707\n",
       "2. 0.584058747184918\n",
       "3. 0.601577190025519\n",
       "4. 0.597093101076049\n",
       "5. 0.603800897726682\n",
       "6. 0.561321682795328\n",
       "7. 0.609184529158227\n",
       "8. 0.5970538822375\n",
       "9. 0.613498823270611\n",
       "10. 0.597001941677394\n",
       "\n",
       "\n"
      ],
      "text/plain": [
       " [1] 0.5724782 0.5840587 0.6015772 0.5970931 0.6038009 0.5613217 0.6091845\n",
       " [8] 0.5970539 0.6134988 0.5970019"
      ]
     },
     "metadata": {},
     "output_type": "display_data"
    }
   ],
   "source": [
    "NMIPCA"
   ]
  },
  {
   "cell_type": "code",
   "execution_count": 4,
   "metadata": {},
   "outputs": [
    {
     "data": {
      "text/html": [
       "<ol class=list-inline>\n",
       "\t<li>0.428276770847802</li>\n",
       "\t<li>0.429707799363496</li>\n",
       "\t<li>0.471072899856489</li>\n",
       "\t<li>0.461468525429832</li>\n",
       "\t<li>0.457308807758531</li>\n",
       "\t<li>0.416300214693825</li>\n",
       "\t<li>0.480201520871606</li>\n",
       "\t<li>0.455814394932073</li>\n",
       "\t<li>0.491545745176811</li>\n",
       "\t<li>0.459978105294244</li>\n",
       "</ol>\n"
      ],
      "text/latex": [
       "\\begin{enumerate*}\n",
       "\\item 0.428276770847802\n",
       "\\item 0.429707799363496\n",
       "\\item 0.471072899856489\n",
       "\\item 0.461468525429832\n",
       "\\item 0.457308807758531\n",
       "\\item 0.416300214693825\n",
       "\\item 0.480201520871606\n",
       "\\item 0.455814394932073\n",
       "\\item 0.491545745176811\n",
       "\\item 0.459978105294244\n",
       "\\end{enumerate*}\n"
      ],
      "text/markdown": [
       "1. 0.428276770847802\n",
       "2. 0.429707799363496\n",
       "3. 0.471072899856489\n",
       "4. 0.461468525429832\n",
       "5. 0.457308807758531\n",
       "6. 0.416300214693825\n",
       "7. 0.480201520871606\n",
       "8. 0.455814394932073\n",
       "9. 0.491545745176811\n",
       "10. 0.459978105294244\n",
       "\n",
       "\n"
      ],
      "text/plain": [
       " [1] 0.4282768 0.4297078 0.4710729 0.4614685 0.4573088 0.4163002 0.4802015\n",
       " [8] 0.4558144 0.4915457 0.4599781"
      ]
     },
     "metadata": {},
     "output_type": "display_data"
    }
   ],
   "source": [
    "ARIPCA"
   ]
  },
  {
   "cell_type": "code",
   "execution_count": null,
   "metadata": {},
   "outputs": [],
   "source": []
  }
 ],
 "metadata": {
  "kernelspec": {
   "display_name": "R",
   "language": "R",
   "name": "ir"
  },
  "language_info": {
   "codemirror_mode": "r",
   "file_extension": ".r",
   "mimetype": "text/x-r-source",
   "name": "R",
   "pygments_lexer": "r",
   "version": "3.5.1"
  }
 },
 "nbformat": 4,
 "nbformat_minor": 2
}
