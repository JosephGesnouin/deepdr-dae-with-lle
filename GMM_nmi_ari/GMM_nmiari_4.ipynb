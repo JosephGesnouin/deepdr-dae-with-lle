{
 "cells": [
  {
   "cell_type": "code",
   "execution_count": 1,
   "metadata": {},
   "outputs": [
    {
     "name": "stderr",
     "output_type": "stream",
     "text": [
      "Package 'mclust' version 5.4.1\n",
      "Type 'citation(\"mclust\")' for citing this R package in publications.\n"
     ]
    }
   ],
   "source": [
    "library(readr)\n",
    "library(mclust)\n",
    "library(aricode)"
   ]
  },
  {
   "cell_type": "code",
   "execution_count": null,
   "metadata": {},
   "outputs": [],
   "source": []
  },
  {
   "cell_type": "code",
   "execution_count": 6,
   "metadata": {},
   "outputs": [
    {
     "name": "stderr",
     "output_type": "stream",
     "text": [
      "Parsed with column specification:\n",
      "cols(\n",
      "  `0` = col_double(),\n",
      "  `1` = col_double(),\n",
      "  `2` = col_double(),\n",
      "  `3` = col_double(),\n",
      "  `4` = col_double(),\n",
      "  `5` = col_double(),\n",
      "  `6` = col_double(),\n",
      "  `7` = col_double(),\n",
      "  `8` = col_double(),\n",
      "  `9` = col_double()\n",
      ")\n",
      "Parsed with column specification:\n",
      "cols(\n",
      "  `0` = col_integer()\n",
      ")\n"
     ]
    },
    {
     "name": "stdout",
     "output_type": "stream",
     "text": [
      "[1] 0.7422321\n",
      "[1] 0.6715024\n"
     ]
    }
   ],
   "source": [
    "args = \"/resultat/dae2_lle_2_noisy2.csv\"\n",
    "\n",
    "\n",
    "x <- c(\"~/Developpement/cours/DeepReduc\", args)\n",
    "bottle <- read_csv(paste(x, collapse=\"/\"))\n",
    "labels <- read_csv(\"~/Developpement/cours/DeepReduc/mnist_labels_2.csv\")\n",
    "\n",
    "\n",
    "nmi=c()\n",
    "ari=c()\n",
    "for(i in 1:1){\n",
    "  clustering=Mclust(bottle,G=10)\n",
    "  nmi=cbind(nmi,NMI(clustering$classification,as.matrix(labels)[,1]))\n",
    "  ari=cbind(ari,ARI(clustering$classification,as.matrix(labels)[,1]))\n",
    "}\n",
    "\n",
    "NMIPCA=as.vector(nmi);\n",
    "print(mean(NMIPCA))\n",
    "ARIPCA=as.vector(ari);\n",
    "print(mean(ARIPCA))\n",
    "\n",
    "# print(\"yess\")\n",
    "\n",
    "# print(args)"
   ]
  },
  {
   "cell_type": "code",
   "execution_count": null,
   "metadata": {},
   "outputs": [],
   "source": []
  },
  {
   "cell_type": "code",
   "execution_count": null,
   "metadata": {},
   "outputs": [],
   "source": []
  },
  {
   "cell_type": "code",
   "execution_count": null,
   "metadata": {},
   "outputs": [],
   "source": []
  },
  {
   "cell_type": "code",
   "execution_count": null,
   "metadata": {},
   "outputs": [],
   "source": []
  },
  {
   "cell_type": "code",
   "execution_count": 8,
   "metadata": {},
   "outputs": [
    {
     "data": {
      "text/html": [
       "<ol class=list-inline>\n",
       "\t<li>0.637777814151754</li>\n",
       "\t<li>0.633236934985718</li>\n",
       "\t<li>0.600257127834159</li>\n",
       "\t<li>0.587093105916395</li>\n",
       "\t<li>0.634605010875167</li>\n",
       "\t<li>0.603838956849916</li>\n",
       "\t<li>0.6196527201487</li>\n",
       "\t<li>0.639094851569468</li>\n",
       "\t<li>0.623858828246144</li>\n",
       "\t<li>0.637106706249364</li>\n",
       "</ol>\n"
      ],
      "text/latex": [
       "\\begin{enumerate*}\n",
       "\\item 0.637777814151754\n",
       "\\item 0.633236934985718\n",
       "\\item 0.600257127834159\n",
       "\\item 0.587093105916395\n",
       "\\item 0.634605010875167\n",
       "\\item 0.603838956849916\n",
       "\\item 0.6196527201487\n",
       "\\item 0.639094851569468\n",
       "\\item 0.623858828246144\n",
       "\\item 0.637106706249364\n",
       "\\end{enumerate*}\n"
      ],
      "text/markdown": [
       "1. 0.637777814151754\n",
       "2. 0.633236934985718\n",
       "3. 0.600257127834159\n",
       "4. 0.587093105916395\n",
       "5. 0.634605010875167\n",
       "6. 0.603838956849916\n",
       "7. 0.6196527201487\n",
       "8. 0.639094851569468\n",
       "9. 0.623858828246144\n",
       "10. 0.637106706249364\n",
       "\n",
       "\n"
      ],
      "text/plain": [
       " [1] 0.6377778 0.6332369 0.6002571 0.5870931 0.6346050 0.6038390 0.6196527\n",
       " [8] 0.6390949 0.6238588 0.6371067"
      ]
     },
     "metadata": {},
     "output_type": "display_data"
    }
   ],
   "source": [
    "NMIPCA"
   ]
  },
  {
   "cell_type": "code",
   "execution_count": 9,
   "metadata": {},
   "outputs": [
    {
     "data": {
      "text/html": [
       "<ol class=list-inline>\n",
       "\t<li>0.514823644350902</li>\n",
       "\t<li>0.48595055896987</li>\n",
       "\t<li>0.444995137190227</li>\n",
       "\t<li>0.436173190285359</li>\n",
       "\t<li>0.491411308657591</li>\n",
       "\t<li>0.464800211066218</li>\n",
       "\t<li>0.477438695697736</li>\n",
       "\t<li>0.51408962404585</li>\n",
       "\t<li>0.479955456555696</li>\n",
       "\t<li>0.509252267057522</li>\n",
       "</ol>\n"
      ],
      "text/latex": [
       "\\begin{enumerate*}\n",
       "\\item 0.514823644350902\n",
       "\\item 0.48595055896987\n",
       "\\item 0.444995137190227\n",
       "\\item 0.436173190285359\n",
       "\\item 0.491411308657591\n",
       "\\item 0.464800211066218\n",
       "\\item 0.477438695697736\n",
       "\\item 0.51408962404585\n",
       "\\item 0.479955456555696\n",
       "\\item 0.509252267057522\n",
       "\\end{enumerate*}\n"
      ],
      "text/markdown": [
       "1. 0.514823644350902\n",
       "2. 0.48595055896987\n",
       "3. 0.444995137190227\n",
       "4. 0.436173190285359\n",
       "5. 0.491411308657591\n",
       "6. 0.464800211066218\n",
       "7. 0.477438695697736\n",
       "8. 0.51408962404585\n",
       "9. 0.479955456555696\n",
       "10. 0.509252267057522\n",
       "\n",
       "\n"
      ],
      "text/plain": [
       " [1] 0.5148236 0.4859506 0.4449951 0.4361732 0.4914113 0.4648002 0.4774387\n",
       " [8] 0.5140896 0.4799555 0.5092523"
      ]
     },
     "metadata": {},
     "output_type": "display_data"
    }
   ],
   "source": [
    "ARIPCA"
   ]
  },
  {
   "cell_type": "code",
   "execution_count": null,
   "metadata": {},
   "outputs": [],
   "source": []
  },
  {
   "cell_type": "code",
   "execution_count": null,
   "metadata": {},
   "outputs": [],
   "source": []
  },
  {
   "cell_type": "code",
   "execution_count": null,
   "metadata": {},
   "outputs": [],
   "source": []
  },
  {
   "cell_type": "markdown",
   "metadata": {},
   "source": [
    "#### test0.5.csv"
   ]
  },
  {
   "cell_type": "code",
   "execution_count": null,
   "metadata": {},
   "outputs": [],
   "source": [
    "[1] 0.6227553\n",
    "[1] 0.4843361"
   ]
  },
  {
   "cell_type": "code",
   "execution_count": 5,
   "metadata": {},
   "outputs": [
    {
     "data": {
      "text/html": [
       "<ol class=list-inline>\n",
       "\t<li>0.622986157753026</li>\n",
       "\t<li>0.616051887814842</li>\n",
       "\t<li>0.624794382682244</li>\n",
       "\t<li>0.627588449608807</li>\n",
       "\t<li>0.607415715733851</li>\n",
       "\t<li>0.629414957702315</li>\n",
       "\t<li>0.630243224251237</li>\n",
       "\t<li>0.627378476313056</li>\n",
       "\t<li>0.631322076005454</li>\n",
       "\t<li>0.610357915328992</li>\n",
       "</ol>\n"
      ],
      "text/latex": [
       "\\begin{enumerate*}\n",
       "\\item 0.622986157753026\n",
       "\\item 0.616051887814842\n",
       "\\item 0.624794382682244\n",
       "\\item 0.627588449608807\n",
       "\\item 0.607415715733851\n",
       "\\item 0.629414957702315\n",
       "\\item 0.630243224251237\n",
       "\\item 0.627378476313056\n",
       "\\item 0.631322076005454\n",
       "\\item 0.610357915328992\n",
       "\\end{enumerate*}\n"
      ],
      "text/markdown": [
       "1. 0.622986157753026\n",
       "2. 0.616051887814842\n",
       "3. 0.624794382682244\n",
       "4. 0.627588449608807\n",
       "5. 0.607415715733851\n",
       "6. 0.629414957702315\n",
       "7. 0.630243224251237\n",
       "8. 0.627378476313056\n",
       "9. 0.631322076005454\n",
       "10. 0.610357915328992\n",
       "\n",
       "\n"
      ],
      "text/plain": [
       " [1] 0.6229862 0.6160519 0.6247944 0.6275884 0.6074157 0.6294150 0.6302432\n",
       " [8] 0.6273785 0.6313221 0.6103579"
      ]
     },
     "metadata": {},
     "output_type": "display_data"
    }
   ],
   "source": [
    "NMIPCA"
   ]
  },
  {
   "cell_type": "code",
   "execution_count": 6,
   "metadata": {},
   "outputs": [
    {
     "data": {
      "text/html": [
       "<ol class=list-inline>\n",
       "\t<li>0.487302029014119</li>\n",
       "\t<li>0.470330855041151</li>\n",
       "\t<li>0.480476604691752</li>\n",
       "\t<li>0.491710231422177</li>\n",
       "\t<li>0.457138514582092</li>\n",
       "\t<li>0.504311023370747</li>\n",
       "\t<li>0.478835633453474</li>\n",
       "\t<li>0.478802688231948</li>\n",
       "\t<li>0.518162884521158</li>\n",
       "\t<li>0.476290655024188</li>\n",
       "</ol>\n"
      ],
      "text/latex": [
       "\\begin{enumerate*}\n",
       "\\item 0.487302029014119\n",
       "\\item 0.470330855041151\n",
       "\\item 0.480476604691752\n",
       "\\item 0.491710231422177\n",
       "\\item 0.457138514582092\n",
       "\\item 0.504311023370747\n",
       "\\item 0.478835633453474\n",
       "\\item 0.478802688231948\n",
       "\\item 0.518162884521158\n",
       "\\item 0.476290655024188\n",
       "\\end{enumerate*}\n"
      ],
      "text/markdown": [
       "1. 0.487302029014119\n",
       "2. 0.470330855041151\n",
       "3. 0.480476604691752\n",
       "4. 0.491710231422177\n",
       "5. 0.457138514582092\n",
       "6. 0.504311023370747\n",
       "7. 0.478835633453474\n",
       "8. 0.478802688231948\n",
       "9. 0.518162884521158\n",
       "10. 0.476290655024188\n",
       "\n",
       "\n"
      ],
      "text/plain": [
       " [1] 0.4873020 0.4703309 0.4804766 0.4917102 0.4571385 0.5043110 0.4788356\n",
       " [8] 0.4788027 0.5181629 0.4762907"
      ]
     },
     "metadata": {},
     "output_type": "display_data"
    }
   ],
   "source": [
    "ARIPCA"
   ]
  },
  {
   "cell_type": "code",
   "execution_count": null,
   "metadata": {},
   "outputs": [],
   "source": []
  },
  {
   "cell_type": "code",
   "execution_count": null,
   "metadata": {},
   "outputs": [],
   "source": []
  },
  {
   "cell_type": "code",
   "execution_count": 11,
   "metadata": {},
   "outputs": [],
   "source": [
    "write.csv(NMIPCA,\"/home/yannis/Developpement/cours/DeepReduc/resultat/DAELLE2_NMI.csv\")\n",
    "write.csv(ARIPCA,\"/home/yannis/Developpement/cours/DeepReduc/resultat/DAELLE2_ARI.csv\")"
   ]
  },
  {
   "cell_type": "code",
   "execution_count": null,
   "metadata": {},
   "outputs": [],
   "source": []
  },
  {
   "cell_type": "code",
   "execution_count": null,
   "metadata": {},
   "outputs": [],
   "source": []
  },
  {
   "cell_type": "code",
   "execution_count": null,
   "metadata": {},
   "outputs": [],
   "source": []
  },
  {
   "cell_type": "markdown",
   "metadata": {},
   "source": [
    "### l1_15_bottle.csv"
   ]
  },
  {
   "cell_type": "code",
   "execution_count": 3,
   "metadata": {},
   "outputs": [
    {
     "data": {
      "text/html": [
       "<ol class=list-inline>\n",
       "\t<li>0.598227850114206</li>\n",
       "\t<li>0.58249930310167</li>\n",
       "\t<li>0.597857631758897</li>\n",
       "\t<li>0.617169608536132</li>\n",
       "\t<li>0.597996106680938</li>\n",
       "\t<li>0.586353519370467</li>\n",
       "\t<li>0.598828094755773</li>\n",
       "\t<li>0.55171307879298</li>\n",
       "\t<li>0.557328955169423</li>\n",
       "\t<li>0.58542488323884</li>\n",
       "</ol>\n"
      ],
      "text/latex": [
       "\\begin{enumerate*}\n",
       "\\item 0.598227850114206\n",
       "\\item 0.58249930310167\n",
       "\\item 0.597857631758897\n",
       "\\item 0.617169608536132\n",
       "\\item 0.597996106680938\n",
       "\\item 0.586353519370467\n",
       "\\item 0.598828094755773\n",
       "\\item 0.55171307879298\n",
       "\\item 0.557328955169423\n",
       "\\item 0.58542488323884\n",
       "\\end{enumerate*}\n"
      ],
      "text/markdown": [
       "1. 0.598227850114206\n",
       "2. 0.58249930310167\n",
       "3. 0.597857631758897\n",
       "4. 0.617169608536132\n",
       "5. 0.597996106680938\n",
       "6. 0.586353519370467\n",
       "7. 0.598828094755773\n",
       "8. 0.55171307879298\n",
       "9. 0.557328955169423\n",
       "10. 0.58542488323884\n",
       "\n",
       "\n"
      ],
      "text/plain": [
       " [1] 0.5982279 0.5824993 0.5978576 0.6171696 0.5979961 0.5863535 0.5988281\n",
       " [8] 0.5517131 0.5573290 0.5854249"
      ]
     },
     "metadata": {},
     "output_type": "display_data"
    }
   ],
   "source": [
    "NMIPCA"
   ]
  },
  {
   "cell_type": "code",
   "execution_count": 4,
   "metadata": {},
   "outputs": [
    {
     "data": {
      "text/html": [
       "<ol class=list-inline>\n",
       "\t<li>0.464653286817057</li>\n",
       "\t<li>0.435089470492478</li>\n",
       "\t<li>0.461281077065401</li>\n",
       "\t<li>0.49608898240569</li>\n",
       "\t<li>0.461152804216354</li>\n",
       "\t<li>0.441116980032465</li>\n",
       "\t<li>0.461396504989369</li>\n",
       "\t<li>0.410262253721052</li>\n",
       "\t<li>0.386023359691211</li>\n",
       "\t<li>0.440038047400861</li>\n",
       "</ol>\n"
      ],
      "text/latex": [
       "\\begin{enumerate*}\n",
       "\\item 0.464653286817057\n",
       "\\item 0.435089470492478\n",
       "\\item 0.461281077065401\n",
       "\\item 0.49608898240569\n",
       "\\item 0.461152804216354\n",
       "\\item 0.441116980032465\n",
       "\\item 0.461396504989369\n",
       "\\item 0.410262253721052\n",
       "\\item 0.386023359691211\n",
       "\\item 0.440038047400861\n",
       "\\end{enumerate*}\n"
      ],
      "text/markdown": [
       "1. 0.464653286817057\n",
       "2. 0.435089470492478\n",
       "3. 0.461281077065401\n",
       "4. 0.49608898240569\n",
       "5. 0.461152804216354\n",
       "6. 0.441116980032465\n",
       "7. 0.461396504989369\n",
       "8. 0.410262253721052\n",
       "9. 0.386023359691211\n",
       "10. 0.440038047400861\n",
       "\n",
       "\n"
      ],
      "text/plain": [
       " [1] 0.4646533 0.4350895 0.4612811 0.4960890 0.4611528 0.4411170 0.4613965\n",
       " [8] 0.4102623 0.3860234 0.4400380"
      ]
     },
     "metadata": {},
     "output_type": "display_data"
    }
   ],
   "source": [
    "ARIPCA"
   ]
  },
  {
   "cell_type": "code",
   "execution_count": null,
   "metadata": {},
   "outputs": [],
   "source": []
  }
 ],
 "metadata": {
  "kernelspec": {
   "display_name": "R",
   "language": "R",
   "name": "ir"
  },
  "language_info": {
   "codemirror_mode": "r",
   "file_extension": ".r",
   "mimetype": "text/x-r-source",
   "name": "R",
   "pygments_lexer": "r",
   "version": "3.5.1"
  }
 },
 "nbformat": 4,
 "nbformat_minor": 2
}
