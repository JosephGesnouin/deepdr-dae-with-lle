{
 "cells": [
  {
   "cell_type": "code",
   "execution_count": 3,
   "metadata": {},
   "outputs": [],
   "source": [
    "library(readr)\n",
    "library(mclust)\n",
    "library(aricode)"
   ]
  },
  {
   "cell_type": "code",
   "execution_count": null,
   "metadata": {},
   "outputs": [],
   "source": []
  },
  {
   "cell_type": "code",
   "execution_count": 4,
   "metadata": {},
   "outputs": [
    {
     "name": "stderr",
     "output_type": "stream",
     "text": [
      "Parsed with column specification:\n",
      "cols(\n",
      "  `0` = col_double(),\n",
      "  `1` = col_double(),\n",
      "  `2` = col_double(),\n",
      "  `3` = col_double(),\n",
      "  `4` = col_double(),\n",
      "  `5` = col_double(),\n",
      "  `6` = col_double(),\n",
      "  `7` = col_double(),\n",
      "  `8` = col_double(),\n",
      "  `9` = col_double()\n",
      ")\n",
      "Parsed with column specification:\n",
      "cols(\n",
      "  `0` = col_integer()\n",
      ")\n"
     ]
    },
    {
     "name": "stdout",
     "output_type": "stream",
     "text": [
      "[1] 0.572352\n",
      "[1] 0.4115269\n"
     ]
    }
   ],
   "source": [
    "args = \"/result_fashion/conv_ae_10_flatten.csv\"\n",
    "\n",
    "\n",
    "x <- c(\"~/Developpement/cours/DeepReduc\", args)\n",
    "bottle <- read_csv(paste(x, collapse=\"/\"))\n",
    "labels <- read_csv(\"~/Developpement/cours/DeepReduc/fashion_labels.csv\")\n",
    "\n",
    "\n",
    "nmi=c()\n",
    "ari=c()\n",
    "for(i in 1:1){\n",
    "  clustering=Mclust(bottle,G=10)\n",
    "  nmi=cbind(nmi,NMI(clustering$classification,as.matrix(labels)[,1]))\n",
    "  ari=cbind(ari,ARI(clustering$classification,as.matrix(labels)[,1]))\n",
    "}\n",
    "\n",
    "NMIPCA=as.vector(nmi);\n",
    "print(mean(NMIPCA))\n",
    "ARIPCA=as.vector(ari);\n",
    "print(mean(ARIPCA))\n",
    "\n",
    "# print(\"yess\")\n",
    "\n",
    "# print(args)"
   ]
  },
  {
   "cell_type": "code",
   "execution_count": null,
   "metadata": {},
   "outputs": [],
   "source": []
  },
  {
   "cell_type": "code",
   "execution_count": null,
   "metadata": {},
   "outputs": [],
   "source": []
  },
  {
   "cell_type": "code",
   "execution_count": null,
   "metadata": {},
   "outputs": [],
   "source": []
  },
  {
   "cell_type": "code",
   "execution_count": null,
   "metadata": {},
   "outputs": [],
   "source": [
    "l5_15_bottle.csv"
   ]
  },
  {
   "cell_type": "code",
   "execution_count": 6,
   "metadata": {},
   "outputs": [
    {
     "data": {
      "text/html": [
       "<ol class=list-inline>\n",
       "\t<li>0.614788875007848</li>\n",
       "\t<li>0.58680294730661</li>\n",
       "\t<li>0.598015063717511</li>\n",
       "\t<li>0.600937688066459</li>\n",
       "\t<li>0.614132740429301</li>\n",
       "\t<li>0.577832378823196</li>\n",
       "\t<li>0.600027416586275</li>\n",
       "\t<li>0.599145126420682</li>\n",
       "\t<li>0.599557775422904</li>\n",
       "\t<li>0.614473259862978</li>\n",
       "</ol>\n"
      ],
      "text/latex": [
       "\\begin{enumerate*}\n",
       "\\item 0.614788875007848\n",
       "\\item 0.58680294730661\n",
       "\\item 0.598015063717511\n",
       "\\item 0.600937688066459\n",
       "\\item 0.614132740429301\n",
       "\\item 0.577832378823196\n",
       "\\item 0.600027416586275\n",
       "\\item 0.599145126420682\n",
       "\\item 0.599557775422904\n",
       "\\item 0.614473259862978\n",
       "\\end{enumerate*}\n"
      ],
      "text/markdown": [
       "1. 0.614788875007848\n",
       "2. 0.58680294730661\n",
       "3. 0.598015063717511\n",
       "4. 0.600937688066459\n",
       "5. 0.614132740429301\n",
       "6. 0.577832378823196\n",
       "7. 0.600027416586275\n",
       "8. 0.599145126420682\n",
       "9. 0.599557775422904\n",
       "10. 0.614473259862978\n",
       "\n",
       "\n"
      ],
      "text/plain": [
       " [1] 0.6147889 0.5868029 0.5980151 0.6009377 0.6141327 0.5778324 0.6000274\n",
       " [8] 0.5991451 0.5995578 0.6144733"
      ]
     },
     "metadata": {},
     "output_type": "display_data"
    }
   ],
   "source": [
    "NMIPCA"
   ]
  },
  {
   "cell_type": "code",
   "execution_count": 7,
   "metadata": {},
   "outputs": [
    {
     "data": {
      "text/html": [
       "<ol class=list-inline>\n",
       "\t<li>0.495980921129731</li>\n",
       "\t<li>0.443292341934918</li>\n",
       "\t<li>0.461929137665194</li>\n",
       "\t<li>0.461363212210176</li>\n",
       "\t<li>0.481371840780614</li>\n",
       "\t<li>0.433501379038819</li>\n",
       "\t<li>0.462231623612849</li>\n",
       "\t<li>0.462729639496233</li>\n",
       "\t<li>0.463729438486332</li>\n",
       "\t<li>0.495450177625501</li>\n",
       "</ol>\n"
      ],
      "text/latex": [
       "\\begin{enumerate*}\n",
       "\\item 0.495980921129731\n",
       "\\item 0.443292341934918\n",
       "\\item 0.461929137665194\n",
       "\\item 0.461363212210176\n",
       "\\item 0.481371840780614\n",
       "\\item 0.433501379038819\n",
       "\\item 0.462231623612849\n",
       "\\item 0.462729639496233\n",
       "\\item 0.463729438486332\n",
       "\\item 0.495450177625501\n",
       "\\end{enumerate*}\n"
      ],
      "text/markdown": [
       "1. 0.495980921129731\n",
       "2. 0.443292341934918\n",
       "3. 0.461929137665194\n",
       "4. 0.461363212210176\n",
       "5. 0.481371840780614\n",
       "6. 0.433501379038819\n",
       "7. 0.462231623612849\n",
       "8. 0.462729639496233\n",
       "9. 0.463729438486332\n",
       "10. 0.495450177625501\n",
       "\n",
       "\n"
      ],
      "text/plain": [
       " [1] 0.4959809 0.4432923 0.4619291 0.4613632 0.4813718 0.4335014 0.4622316\n",
       " [8] 0.4627296 0.4637294 0.4954502"
      ]
     },
     "metadata": {},
     "output_type": "display_data"
    }
   ],
   "source": [
    "ARIPCA"
   ]
  },
  {
   "cell_type": "code",
   "execution_count": null,
   "metadata": {},
   "outputs": [],
   "source": []
  },
  {
   "cell_type": "code",
   "execution_count": null,
   "metadata": {},
   "outputs": [],
   "source": []
  },
  {
   "cell_type": "code",
   "execution_count": null,
   "metadata": {},
   "outputs": [],
   "source": []
  },
  {
   "cell_type": "code",
   "execution_count": 11,
   "metadata": {},
   "outputs": [],
   "source": [
    "write.csv(NMIPCA,\"/home/yannis/Developpement/cours/DeepReduc/resultat/DAELLE2_NMI.csv\")\n",
    "write.csv(ARIPCA,\"/home/yannis/Developpement/cours/DeepReduc/resultat/DAELLE2_ARI.csv\")"
   ]
  },
  {
   "cell_type": "code",
   "execution_count": null,
   "metadata": {},
   "outputs": [],
   "source": []
  },
  {
   "cell_type": "code",
   "execution_count": null,
   "metadata": {},
   "outputs": [],
   "source": []
  },
  {
   "cell_type": "code",
   "execution_count": 4,
   "metadata": {},
   "outputs": [
    {
     "data": {
      "text/html": [
       "<ol class=list-inline>\n",
       "\t<li>0.74367811639569</li>\n",
       "\t<li>0.744452560212247</li>\n",
       "\t<li>0.742552101003343</li>\n",
       "\t<li>0.747716336725298</li>\n",
       "\t<li>0.742244982333291</li>\n",
       "</ol>\n"
      ],
      "text/latex": [
       "\\begin{enumerate*}\n",
       "\\item 0.74367811639569\n",
       "\\item 0.744452560212247\n",
       "\\item 0.742552101003343\n",
       "\\item 0.747716336725298\n",
       "\\item 0.742244982333291\n",
       "\\end{enumerate*}\n"
      ],
      "text/markdown": [
       "1. 0.74367811639569\n",
       "2. 0.744452560212247\n",
       "3. 0.742552101003343\n",
       "4. 0.747716336725298\n",
       "5. 0.742244982333291\n",
       "\n",
       "\n"
      ],
      "text/plain": [
       "[1] 0.7436781 0.7444526 0.7425521 0.7477163 0.7422450"
      ]
     },
     "metadata": {},
     "output_type": "display_data"
    }
   ],
   "source": [
    "NMIPCA"
   ]
  },
  {
   "cell_type": "code",
   "execution_count": null,
   "metadata": {},
   "outputs": [],
   "source": []
  },
  {
   "cell_type": "code",
   "execution_count": null,
   "metadata": {},
   "outputs": [],
   "source": []
  }
 ],
 "metadata": {
  "kernelspec": {
   "display_name": "R",
   "language": "R",
   "name": "ir"
  },
  "language_info": {
   "codemirror_mode": "r",
   "file_extension": ".r",
   "mimetype": "text/x-r-source",
   "name": "R",
   "pygments_lexer": "r",
   "version": "3.5.1"
  }
 },
 "nbformat": 4,
 "nbformat_minor": 2
}
