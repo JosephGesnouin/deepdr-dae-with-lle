{
 "cells": [
  {
   "cell_type": "code",
   "execution_count": 2,
   "metadata": {},
   "outputs": [],
   "source": [
    "library(readr)\n",
    "library(mclust)\n",
    "library(aricode)"
   ]
  },
  {
   "cell_type": "code",
   "execution_count": null,
   "metadata": {},
   "outputs": [],
   "source": []
  },
  {
   "cell_type": "code",
   "execution_count": 5,
   "metadata": {},
   "outputs": [
    {
     "name": "stderr",
     "output_type": "stream",
     "text": [
      "Parsed with column specification:\n",
      "cols(\n",
      "  .default = col_double()\n",
      ")\n",
      "See spec(...) for full column specifications.\n",
      "Parsed with column specification:\n",
      "cols(\n",
      "  `0` = col_integer()\n",
      ")\n"
     ]
    },
    {
     "name": "stdout",
     "output_type": "stream",
     "text": [
      "[1] 0.4078297\n",
      "[1] 0.2237474\n"
     ]
    }
   ],
   "source": [
    "args = \"/compare_deepdr/50.csv\"\n",
    "\n",
    "\n",
    "x <- c(\"~/Developpement/cours/DeepReduc\", args)\n",
    "bottle <- read_csv(paste(x, collapse=\"/\"))\n",
    "labels <- read_csv(\"~/Developpement/cours/DeepReduc/mnist_labels_2.csv\")\n",
    "\n",
    "\n",
    "nmi=c()\n",
    "ari=c()\n",
    "for(i in 1:2){\n",
    "  clustering=Mclust(bottle,G=10)\n",
    "  nmi=cbind(nmi,NMI(clustering$classification,as.matrix(labels)[,1]))\n",
    "  ari=cbind(ari,ARI(clustering$classification,as.matrix(labels)[,1]))\n",
    "}\n",
    "\n",
    "NMIPCA=as.vector(nmi);\n",
    "print(mean(NMIPCA))\n",
    "ARIPCA=as.vector(ari);\n",
    "print(mean(ARIPCA))\n",
    "\n",
    "# print(\"yess\")\n",
    "\n",
    "# print(args)"
   ]
  },
  {
   "cell_type": "code",
   "execution_count": null,
   "metadata": {},
   "outputs": [],
   "source": []
  },
  {
   "cell_type": "code",
   "execution_count": null,
   "metadata": {},
   "outputs": [],
   "source": []
  },
  {
   "cell_type": "code",
   "execution_count": null,
   "metadata": {},
   "outputs": [],
   "source": []
  },
  {
   "cell_type": "code",
   "execution_count": null,
   "metadata": {},
   "outputs": [],
   "source": []
  },
  {
   "cell_type": "code",
   "execution_count": 17,
   "metadata": {},
   "outputs": [
    {
     "data": {
      "text/html": [
       "<ol class=list-inline>\n",
       "\t<li>0,613604966649526</li>\n",
       "\t<li>0,625035309545582</li>\n",
       "\t<li>0,641735829193394</li>\n",
       "\t<li>0,638362630665628</li>\n",
       "\t<li>0,633768885678127</li>\n",
       "\t<li>0,64301349189263</li>\n",
       "\t<li>0,633658811165764</li>\n",
       "\t<li>0,609628723016092</li>\n",
       "\t<li>0,636312615366251</li>\n",
       "\t<li>0,613706282593635</li>\n",
       "</ol>\n"
      ],
      "text/latex": [
       "\\begin{enumerate*}\n",
       "\\item 0,613604966649526\n",
       "\\item 0,625035309545582\n",
       "\\item 0,641735829193394\n",
       "\\item 0,638362630665628\n",
       "\\item 0,633768885678127\n",
       "\\item 0,64301349189263\n",
       "\\item 0,633658811165764\n",
       "\\item 0,609628723016092\n",
       "\\item 0,636312615366251\n",
       "\\item 0,613706282593635\n",
       "\\end{enumerate*}\n"
      ],
      "text/markdown": [
       "1. 0,613604966649526\n",
       "2. 0,625035309545582\n",
       "3. 0,641735829193394\n",
       "4. 0,638362630665628\n",
       "5. 0,633768885678127\n",
       "6. 0,64301349189263\n",
       "7. 0,633658811165764\n",
       "8. 0,609628723016092\n",
       "9. 0,636312615366251\n",
       "10. 0,613706282593635\n",
       "\n",
       "\n"
      ],
      "text/plain": [
       " [1] 0,6136050 0,6250353 0,6417358 0,6383626 0,6337689 0,6430135 0,6336588\n",
       " [8] 0,6096287 0,6363126 0,6137063"
      ]
     },
     "metadata": {},
     "output_type": "display_data"
    }
   ],
   "source": [
    "NMIPCA"
   ]
  },
  {
   "cell_type": "code",
   "execution_count": 18,
   "metadata": {},
   "outputs": [
    {
     "data": {
      "text/html": [
       "<ol class=list-inline>\n",
       "\t<li>0,464421652293046</li>\n",
       "\t<li>0,482780377909208</li>\n",
       "\t<li>0,519405790093007</li>\n",
       "\t<li>0,51715003262984</li>\n",
       "\t<li>0,491345880509513</li>\n",
       "\t<li>0,515244485708418</li>\n",
       "\t<li>0,507963014939459</li>\n",
       "\t<li>0,466197618532168</li>\n",
       "\t<li>0,51884289802953</li>\n",
       "\t<li>0,464945734338518</li>\n",
       "</ol>\n"
      ],
      "text/latex": [
       "\\begin{enumerate*}\n",
       "\\item 0,464421652293046\n",
       "\\item 0,482780377909208\n",
       "\\item 0,519405790093007\n",
       "\\item 0,51715003262984\n",
       "\\item 0,491345880509513\n",
       "\\item 0,515244485708418\n",
       "\\item 0,507963014939459\n",
       "\\item 0,466197618532168\n",
       "\\item 0,51884289802953\n",
       "\\item 0,464945734338518\n",
       "\\end{enumerate*}\n"
      ],
      "text/markdown": [
       "1. 0,464421652293046\n",
       "2. 0,482780377909208\n",
       "3. 0,519405790093007\n",
       "4. 0,51715003262984\n",
       "5. 0,491345880509513\n",
       "6. 0,515244485708418\n",
       "7. 0,507963014939459\n",
       "8. 0,466197618532168\n",
       "9. 0,51884289802953\n",
       "10. 0,464945734338518\n",
       "\n",
       "\n"
      ],
      "text/plain": [
       " [1] 0,4644217 0,4827804 0,5194058 0,5171500 0,4913459 0,5152445 0,5079630\n",
       " [8] 0,4661976 0,5188429 0,4649457"
      ]
     },
     "metadata": {},
     "output_type": "display_data"
    }
   ],
   "source": [
    "ARIPCA"
   ]
  },
  {
   "cell_type": "code",
   "execution_count": null,
   "metadata": {},
   "outputs": [],
   "source": []
  },
  {
   "cell_type": "markdown",
   "metadata": {},
   "source": [
    "### test05_3.csv"
   ]
  },
  {
   "cell_type": "code",
   "execution_count": null,
   "metadata": {},
   "outputs": [],
   "source": [
    "[1] 0,6288828\n",
    "[1] 0,4948297"
   ]
  },
  {
   "cell_type": "code",
   "execution_count": 14,
   "metadata": {},
   "outputs": [
    {
     "data": {
      "text/html": [
       "<ol class=list-inline>\n",
       "\t<li>0,613604966649526</li>\n",
       "\t<li>0,625035309545582</li>\n",
       "\t<li>0,641735829193394</li>\n",
       "\t<li>0,638362630665628</li>\n",
       "\t<li>0,633768885678127</li>\n",
       "\t<li>0,64301349189263</li>\n",
       "\t<li>0,633658811165764</li>\n",
       "\t<li>0,609628723016092</li>\n",
       "\t<li>0,636312615366251</li>\n",
       "\t<li>0,613706282593635</li>\n",
       "</ol>\n"
      ],
      "text/latex": [
       "\\begin{enumerate*}\n",
       "\\item 0,613604966649526\n",
       "\\item 0,625035309545582\n",
       "\\item 0,641735829193394\n",
       "\\item 0,638362630665628\n",
       "\\item 0,633768885678127\n",
       "\\item 0,64301349189263\n",
       "\\item 0,633658811165764\n",
       "\\item 0,609628723016092\n",
       "\\item 0,636312615366251\n",
       "\\item 0,613706282593635\n",
       "\\end{enumerate*}\n"
      ],
      "text/markdown": [
       "1. 0,613604966649526\n",
       "2. 0,625035309545582\n",
       "3. 0,641735829193394\n",
       "4. 0,638362630665628\n",
       "5. 0,633768885678127\n",
       "6. 0,64301349189263\n",
       "7. 0,633658811165764\n",
       "8. 0,609628723016092\n",
       "9. 0,636312615366251\n",
       "10. 0,613706282593635\n",
       "\n",
       "\n"
      ],
      "text/plain": [
       " [1] 0,6136050 0,6250353 0,6417358 0,6383626 0,6337689 0,6430135 0,6336588\n",
       " [8] 0,6096287 0,6363126 0,6137063"
      ]
     },
     "metadata": {},
     "output_type": "display_data"
    }
   ],
   "source": [
    "NMIPCA"
   ]
  },
  {
   "cell_type": "code",
   "execution_count": 15,
   "metadata": {},
   "outputs": [
    {
     "data": {
      "text/html": [
       "<ol class=list-inline>\n",
       "\t<li>0,464421652293046</li>\n",
       "\t<li>0,482780377909208</li>\n",
       "\t<li>0,519405790093007</li>\n",
       "\t<li>0,51715003262984</li>\n",
       "\t<li>0,491345880509513</li>\n",
       "\t<li>0,515244485708418</li>\n",
       "\t<li>0,507963014939459</li>\n",
       "\t<li>0,466197618532168</li>\n",
       "\t<li>0,51884289802953</li>\n",
       "\t<li>0,464945734338518</li>\n",
       "</ol>\n"
      ],
      "text/latex": [
       "\\begin{enumerate*}\n",
       "\\item 0,464421652293046\n",
       "\\item 0,482780377909208\n",
       "\\item 0,519405790093007\n",
       "\\item 0,51715003262984\n",
       "\\item 0,491345880509513\n",
       "\\item 0,515244485708418\n",
       "\\item 0,507963014939459\n",
       "\\item 0,466197618532168\n",
       "\\item 0,51884289802953\n",
       "\\item 0,464945734338518\n",
       "\\end{enumerate*}\n"
      ],
      "text/markdown": [
       "1. 0,464421652293046\n",
       "2. 0,482780377909208\n",
       "3. 0,519405790093007\n",
       "4. 0,51715003262984\n",
       "5. 0,491345880509513\n",
       "6. 0,515244485708418\n",
       "7. 0,507963014939459\n",
       "8. 0,466197618532168\n",
       "9. 0,51884289802953\n",
       "10. 0,464945734338518\n",
       "\n",
       "\n"
      ],
      "text/plain": [
       " [1] 0,4644217 0,4827804 0,5194058 0,5171500 0,4913459 0,5152445 0,5079630\n",
       " [8] 0,4661976 0,5188429 0,4649457"
      ]
     },
     "metadata": {},
     "output_type": "display_data"
    }
   ],
   "source": [
    "ARIPCA"
   ]
  },
  {
   "cell_type": "markdown",
   "metadata": {},
   "source": [
    "### test.csv"
   ]
  },
  {
   "cell_type": "code",
   "execution_count": null,
   "metadata": {},
   "outputs": [],
   "source": [
    "[1] 0.6044566\n",
    "[1] 0.4618702"
   ]
  },
  {
   "cell_type": "code",
   "execution_count": 12,
   "metadata": {},
   "outputs": [
    {
     "data": {
      "text/html": [
       "<ol class=list-inline>\n",
       "\t<li>0,587848717876634</li>\n",
       "\t<li>0,611327196765947</li>\n",
       "\t<li>0,606514954624669</li>\n",
       "\t<li>0,618905807312002</li>\n",
       "\t<li>0,609279003906082</li>\n",
       "\t<li>0,593017146636828</li>\n",
       "\t<li>0,594427767102246</li>\n",
       "\t<li>0,613806520782879</li>\n",
       "\t<li>0,596123377902765</li>\n",
       "\t<li>0,613315759166994</li>\n",
       "</ol>\n"
      ],
      "text/latex": [
       "\\begin{enumerate*}\n",
       "\\item 0,587848717876634\n",
       "\\item 0,611327196765947\n",
       "\\item 0,606514954624669\n",
       "\\item 0,618905807312002\n",
       "\\item 0,609279003906082\n",
       "\\item 0,593017146636828\n",
       "\\item 0,594427767102246\n",
       "\\item 0,613806520782879\n",
       "\\item 0,596123377902765\n",
       "\\item 0,613315759166994\n",
       "\\end{enumerate*}\n"
      ],
      "text/markdown": [
       "1. 0,587848717876634\n",
       "2. 0,611327196765947\n",
       "3. 0,606514954624669\n",
       "4. 0,618905807312002\n",
       "5. 0,609279003906082\n",
       "6. 0,593017146636828\n",
       "7. 0,594427767102246\n",
       "8. 0,613806520782879\n",
       "9. 0,596123377902765\n",
       "10. 0,613315759166994\n",
       "\n",
       "\n"
      ],
      "text/plain": [
       " [1] 0,5878487 0,6113272 0,6065150 0,6189058 0,6092790 0,5930171 0,5944278\n",
       " [8] 0,6138065 0,5961234 0,6133158"
      ]
     },
     "metadata": {},
     "output_type": "display_data"
    }
   ],
   "source": [
    "NMIPCA"
   ]
  },
  {
   "cell_type": "code",
   "execution_count": 9,
   "metadata": {},
   "outputs": [
    {
     "data": {
      "text/html": [
       "<ol class=list-inline>\n",
       "\t<li>0.448942373365271</li>\n",
       "\t<li>0.475768021846098</li>\n",
       "\t<li>0.462547886296221</li>\n",
       "\t<li>0.471286973413858</li>\n",
       "\t<li>0.464297780582633</li>\n",
       "\t<li>0.442855298938582</li>\n",
       "\t<li>0.444543246730996</li>\n",
       "\t<li>0.465033320620052</li>\n",
       "\t<li>0.44563203571476</li>\n",
       "\t<li>0.497794985218904</li>\n",
       "</ol>\n"
      ],
      "text/latex": [
       "\\begin{enumerate*}\n",
       "\\item 0.448942373365271\n",
       "\\item 0.475768021846098\n",
       "\\item 0.462547886296221\n",
       "\\item 0.471286973413858\n",
       "\\item 0.464297780582633\n",
       "\\item 0.442855298938582\n",
       "\\item 0.444543246730996\n",
       "\\item 0.465033320620052\n",
       "\\item 0.44563203571476\n",
       "\\item 0.497794985218904\n",
       "\\end{enumerate*}\n"
      ],
      "text/markdown": [
       "1. 0.448942373365271\n",
       "2. 0.475768021846098\n",
       "3. 0.462547886296221\n",
       "4. 0.471286973413858\n",
       "5. 0.464297780582633\n",
       "6. 0.442855298938582\n",
       "7. 0.444543246730996\n",
       "8. 0.465033320620052\n",
       "9. 0.44563203571476\n",
       "10. 0.497794985218904\n",
       "\n",
       "\n"
      ],
      "text/plain": [
       " [1] 0.4489424 0.4757680 0.4625479 0.4712870 0.4642978 0.4428553 0.4445432\n",
       " [8] 0.4650333 0.4456320 0.4977950"
      ]
     },
     "metadata": {},
     "output_type": "display_data"
    }
   ],
   "source": [
    "ARIPCA"
   ]
  },
  {
   "cell_type": "code",
   "execution_count": 11,
   "metadata": {},
   "outputs": [
    {
     "data": {
      "image/png": "[encoded data removed]",
      "text/plain": [
       "plot without title"
      ]
     },
     "metadata": {},
     "output_type": "display_data",
     "source": "R display func"
    }
   ],
   "source": [
    "boxplot(ARIPCA)"
   ]
  },
  {
   "cell_type": "code",
   "execution_count": 10,
   "metadata": {},
   "outputs": [
    {
     "data": {
      "image/png": "[encoded data removed]",
      "text/plain": [
       "plot without title"
      ]
     },
     "metadata": {},
     "output_type": "display_data",
     "source": "R display func"
    }
   ],
   "source": [
    "boxplot(NMIPCA)"
   ]
  },
  {
   "cell_type": "code",
   "execution_count": null,
   "metadata": {},
   "outputs": [],
   "source": []
  },
  {
   "cell_type": "code",
   "execution_count": null,
   "metadata": {},
   "outputs": [],
   "source": []
  },
  {
   "cell_type": "code",
   "execution_count": null,
   "metadata": {},
   "outputs": [],
   "source": []
  },
  {
   "cell_type": "markdown",
   "metadata": {},
   "source": [
    "### l3_13_bottle.csv"
   ]
  },
  {
   "cell_type": "code",
   "execution_count": 3,
   "metadata": {},
   "outputs": [
    {
     "data": {
      "text/html": [
       "<ol class=list-inline>\n",
       "\t<li>0.582813080939452</li>\n",
       "\t<li>0.598399534310322</li>\n",
       "\t<li>0.596299568986606</li>\n",
       "\t<li>0.596154356360703</li>\n",
       "\t<li>0.597249527151884</li>\n",
       "\t<li>0.55693235760454</li>\n",
       "\t<li>0.59513938880728</li>\n",
       "\t<li>0.609145205005774</li>\n",
       "\t<li>0.610648854956445</li>\n",
       "\t<li>0.613011924678581</li>\n",
       "</ol>\n"
      ],
      "text/latex": [
       "\\begin{enumerate*}\n",
       "\\item 0.582813080939452\n",
       "\\item 0.598399534310322\n",
       "\\item 0.596299568986606\n",
       "\\item 0.596154356360703\n",
       "\\item 0.597249527151884\n",
       "\\item 0.55693235760454\n",
       "\\item 0.59513938880728\n",
       "\\item 0.609145205005774\n",
       "\\item 0.610648854956445\n",
       "\\item 0.613011924678581\n",
       "\\end{enumerate*}\n"
      ],
      "text/markdown": [
       "1. 0.582813080939452\n",
       "2. 0.598399534310322\n",
       "3. 0.596299568986606\n",
       "4. 0.596154356360703\n",
       "5. 0.597249527151884\n",
       "6. 0.55693235760454\n",
       "7. 0.59513938880728\n",
       "8. 0.609145205005774\n",
       "9. 0.610648854956445\n",
       "10. 0.613011924678581\n",
       "\n",
       "\n"
      ],
      "text/plain": [
       " [1] 0.5828131 0.5983995 0.5962996 0.5961544 0.5972495 0.5569324 0.5951394\n",
       " [8] 0.6091452 0.6106489 0.6130119"
      ]
     },
     "metadata": {},
     "output_type": "display_data"
    }
   ],
   "source": [
    "NMIPCA"
   ]
  },
  {
   "cell_type": "code",
   "execution_count": 4,
   "metadata": {},
   "outputs": [
    {
     "data": {
      "text/html": [
       "<ol class=list-inline>\n",
       "\t<li>0.426769655640889</li>\n",
       "\t<li>0.46800125696158</li>\n",
       "\t<li>0.460595500285163</li>\n",
       "\t<li>0.459012216798447</li>\n",
       "\t<li>0.461325051470719</li>\n",
       "\t<li>0.387896650822992</li>\n",
       "\t<li>0.455604085490719</li>\n",
       "\t<li>0.487481264602474</li>\n",
       "\t<li>0.470195196999474</li>\n",
       "\t<li>0.487751577677389</li>\n",
       "</ol>\n"
      ],
      "text/latex": [
       "\\begin{enumerate*}\n",
       "\\item 0.426769655640889\n",
       "\\item 0.46800125696158\n",
       "\\item 0.460595500285163\n",
       "\\item 0.459012216798447\n",
       "\\item 0.461325051470719\n",
       "\\item 0.387896650822992\n",
       "\\item 0.455604085490719\n",
       "\\item 0.487481264602474\n",
       "\\item 0.470195196999474\n",
       "\\item 0.487751577677389\n",
       "\\end{enumerate*}\n"
      ],
      "text/markdown": [
       "1. 0.426769655640889\n",
       "2. 0.46800125696158\n",
       "3. 0.460595500285163\n",
       "4. 0.459012216798447\n",
       "5. 0.461325051470719\n",
       "6. 0.387896650822992\n",
       "7. 0.455604085490719\n",
       "8. 0.487481264602474\n",
       "9. 0.470195196999474\n",
       "10. 0.487751577677389\n",
       "\n",
       "\n"
      ],
      "text/plain": [
       " [1] 0.4267697 0.4680013 0.4605955 0.4590122 0.4613251 0.3878967 0.4556041\n",
       " [8] 0.4874813 0.4701952 0.4877516"
      ]
     },
     "metadata": {},
     "output_type": "display_data"
    }
   ],
   "source": [
    "ARIPCA"
   ]
  },
  {
   "cell_type": "code",
   "execution_count": null,
   "metadata": {},
   "outputs": [],
   "source": []
  },
  {
   "cell_type": "code",
   "execution_count": 11,
   "metadata": {},
   "outputs": [],
   "source": [
    "write.csv(NMIPCA,\"/home/yannis/Developpement/cours/DeepReduc/resultat/DAELLE2_NMI.csv\")\n",
    "write.csv(ARIPCA,\"/home/yannis/Developpement/cours/DeepReduc/resultat/DAELLE2_ARI.csv\")"
   ]
  },
  {
   "cell_type": "code",
   "execution_count": null,
   "metadata": {},
   "outputs": [],
   "source": []
  },
  {
   "cell_type": "code",
   "execution_count": null,
   "metadata": {},
   "outputs": [],
   "source": []
  },
  {
   "cell_type": "code",
   "execution_count": 4,
   "metadata": {},
   "outputs": [
    {
     "data": {
      "text/html": [
       "<ol class=list-inline>\n",
       "\t<li>0.74367811639569</li>\n",
       "\t<li>0.744452560212247</li>\n",
       "\t<li>0.742552101003343</li>\n",
       "\t<li>0.747716336725298</li>\n",
       "\t<li>0.742244982333291</li>\n",
       "</ol>\n"
      ],
      "text/latex": [
       "\\begin{enumerate*}\n",
       "\\item 0.74367811639569\n",
       "\\item 0.744452560212247\n",
       "\\item 0.742552101003343\n",
       "\\item 0.747716336725298\n",
       "\\item 0.742244982333291\n",
       "\\end{enumerate*}\n"
      ],
      "text/markdown": [
       "1. 0.74367811639569\n",
       "2. 0.744452560212247\n",
       "3. 0.742552101003343\n",
       "4. 0.747716336725298\n",
       "5. 0.742244982333291\n",
       "\n",
       "\n"
      ],
      "text/plain": [
       "[1] 0.7436781 0.7444526 0.7425521 0.7477163 0.7422450"
      ]
     },
     "metadata": {},
     "output_type": "display_data"
    }
   ],
   "source": [
    "NMIPCA"
   ]
  },
  {
   "cell_type": "code",
   "execution_count": null,
   "metadata": {},
   "outputs": [],
   "source": []
  },
  {
   "cell_type": "code",
   "execution_count": null,
   "metadata": {},
   "outputs": [],
   "source": []
  }
 ],
 "metadata": {
  "kernelspec": {
   "display_name": "R",
   "language": "R",
   "name": "ir"
  },
  "language_info": {
   "codemirror_mode": "r",
   "file_extension": ".r",
   "mimetype": "text/x-r-source",
   "name": "R",
   "pygments_lexer": "r",
   "version": "3.5.1"
  }
 },
 "nbformat": 4,
 "nbformat_minor": 2
}
